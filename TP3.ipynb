{
 "cells": [
  {
   "cell_type": "code",
   "execution_count": 1,
   "metadata": {},
   "outputs": [],
   "source": [
    "#Question 1"
   ]
  },
  {
   "cell_type": "code",
   "execution_count": 2,
   "metadata": {},
   "outputs": [],
   "source": [
    "F2=GF(2)"
   ]
  },
  {
   "cell_type": "code",
   "execution_count": 3,
   "metadata": {},
   "outputs": [],
   "source": [
    "Fq.<a>=GF(2^6,name='a')"
   ]
  },
  {
   "cell_type": "code",
   "execution_count": 4,
   "metadata": {
    "scrolled": true
   },
   "outputs": [
    {
     "data": {
      "text/plain": [
       "x^6 + x^4 + x^3 + x + 1"
      ]
     },
     "execution_count": 4,
     "metadata": {},
     "output_type": "execute_result"
    }
   ],
   "source": [
    "Fq.modulus()"
   ]
  },
  {
   "cell_type": "code",
   "execution_count": 5,
   "metadata": {},
   "outputs": [
    {
     "data": {
      "text/plain": [
       "[0,\n",
       " a,\n",
       " a^2,\n",
       " a^3,\n",
       " a^4,\n",
       " a^5,\n",
       " a^4 + a^3 + a + 1,\n",
       " a^5 + a^4 + a^2 + a,\n",
       " a^5 + a^4 + a^2 + a + 1,\n",
       " a^5 + a^4 + a^2 + 1,\n",
       " a^5 + a^4 + 1,\n",
       " a^5 + a^4 + a^3 + 1,\n",
       " a^5 + a^3 + 1,\n",
       " a^3 + 1,\n",
       " a^4 + a,\n",
       " a^5 + a^2,\n",
       " a^4 + a + 1,\n",
       " a^5 + a^2 + a,\n",
       " a^4 + a^2 + a + 1,\n",
       " a^5 + a^3 + a^2 + a,\n",
       " a^2 + a + 1,\n",
       " a^3 + a^2 + a,\n",
       " a^4 + a^3 + a^2,\n",
       " a^5 + a^4 + a^3,\n",
       " a^5 + a^3 + a + 1,\n",
       " a^3 + a^2 + 1,\n",
       " a^4 + a^3 + a,\n",
       " a^5 + a^4 + a^2,\n",
       " a^5 + a^4 + a + 1,\n",
       " a^5 + a^4 + a^3 + a^2 + 1,\n",
       " a^5 + 1,\n",
       " a^4 + a^3 + 1,\n",
       " a^5 + a^4 + a,\n",
       " a^5 + a^4 + a^3 + a^2 + a + 1,\n",
       " a^5 + a^2 + 1,\n",
       " a^4 + 1,\n",
       " a^5 + a,\n",
       " a^4 + a^3 + a^2 + a + 1,\n",
       " a^5 + a^4 + a^3 + a^2 + a,\n",
       " a^5 + a^2 + a + 1,\n",
       " a^4 + a^2 + 1,\n",
       " a^5 + a^3 + a,\n",
       " a^3 + a^2 + a + 1,\n",
       " a^4 + a^3 + a^2 + a,\n",
       " a^5 + a^4 + a^3 + a^2,\n",
       " a^5 + a + 1,\n",
       " a^4 + a^3 + a^2 + 1,\n",
       " a^5 + a^4 + a^3 + a,\n",
       " a^5 + a^3 + a^2 + a + 1,\n",
       " a^2 + 1,\n",
       " a^3 + a,\n",
       " a^4 + a^2,\n",
       " a^5 + a^3,\n",
       " a^3 + a + 1,\n",
       " a^4 + a^2 + a,\n",
       " a^5 + a^3 + a^2,\n",
       " a + 1,\n",
       " a^2 + a,\n",
       " a^3 + a^2,\n",
       " a^4 + a^3,\n",
       " a^5 + a^4,\n",
       " a^5 + a^4 + a^3 + a + 1,\n",
       " a^5 + a^3 + a^2 + 1,\n",
       " 1]"
      ]
     },
     "execution_count": 5,
     "metadata": {},
     "output_type": "execute_result"
    }
   ],
   "source": [
    "Fq.list()"
   ]
  },
  {
   "cell_type": "code",
   "execution_count": 6,
   "metadata": {},
   "outputs": [],
   "source": [
    "R.<X>=Fq['X']"
   ]
  },
  {
   "cell_type": "code",
   "execution_count": 7,
   "metadata": {},
   "outputs": [],
   "source": [
    "#n=0\n",
    "#for p in R.polynomials(max_degree=2):\n",
    "    #n=n+1\n",
    "#print(n)    "
   ]
  },
  {
   "cell_type": "code",
   "execution_count": 8,
   "metadata": {},
   "outputs": [
    {
     "data": {
      "text/plain": [
       "X * (X + 1) * (X + a) * (X + a + 1) * (X + a^2) * (X + a^2 + 1) * (X + a^2 + a) * (X + a^2 + a + 1) * (X + a^3) * (X + a^3 + 1) * (X + a^3 + a) * (X + a^3 + a + 1) * (X + a^3 + a^2) * (X + a^3 + a^2 + 1) * (X + a^3 + a^2 + a) * (X + a^3 + a^2 + a + 1) * (X + a^4) * (X + a^4 + 1) * (X + a^4 + a) * (X + a^4 + a + 1) * (X + a^4 + a^2) * (X + a^4 + a^2 + 1) * (X + a^4 + a^2 + a) * (X + a^4 + a^2 + a + 1) * (X + a^4 + a^3) * (X + a^4 + a^3 + 1) * (X + a^4 + a^3 + a) * (X + a^4 + a^3 + a + 1) * (X + a^4 + a^3 + a^2) * (X + a^4 + a^3 + a^2 + 1) * (X + a^4 + a^3 + a^2 + a) * (X + a^4 + a^3 + a^2 + a + 1) * (X + a^5) * (X + a^5 + 1) * (X + a^5 + a) * (X + a^5 + a + 1) * (X + a^5 + a^2) * (X + a^5 + a^2 + 1) * (X + a^5 + a^2 + a) * (X + a^5 + a^2 + a + 1) * (X + a^5 + a^3) * (X + a^5 + a^3 + 1) * (X + a^5 + a^3 + a) * (X + a^5 + a^3 + a + 1) * (X + a^5 + a^3 + a^2) * (X + a^5 + a^3 + a^2 + 1) * (X + a^5 + a^3 + a^2 + a) * (X + a^5 + a^3 + a^2 + a + 1) * (X + a^5 + a^4) * (X + a^5 + a^4 + 1) * (X + a^5 + a^4 + a) * (X + a^5 + a^4 + a + 1) * (X + a^5 + a^4 + a^2) * (X + a^5 + a^4 + a^2 + 1) * (X + a^5 + a^4 + a^2 + a) * (X + a^5 + a^4 + a^2 + a + 1) * (X + a^5 + a^4 + a^3) * (X + a^5 + a^4 + a^3 + 1) * (X + a^5 + a^4 + a^3 + a) * (X + a^5 + a^4 + a^3 + a + 1) * (X + a^5 + a^4 + a^3 + a^2) * (X + a^5 + a^4 + a^3 + a^2 + 1) * (X + a^5 + a^4 + a^3 + a^2 + a) * (X + a^5 + a^4 + a^3 + a^2 + a + 1)"
      ]
     },
     "execution_count": 8,
     "metadata": {},
     "output_type": "execute_result"
    }
   ],
   "source": [
    "factor(X^64-X)"
   ]
  },
  {
   "cell_type": "code",
   "execution_count": 591,
   "metadata": {},
   "outputs": [
    {
     "data": {
      "text/plain": [
       "X * (X + 1) * (X + a) * (X + a + 1) * (X + a^2) * (X + a^2 + 1) * (X + a^2 + a) * (X + a^2 + a + 1) * (X + a^3) * (X + a^3 + 1) * (X + a^3 + a) * (X + a^3 + a + 1) * (X + a^3 + a^2) * (X + a^3 + a^2 + 1) * (X + a^3 + a^2 + a) * (X + a^3 + a^2 + a + 1) * (X + a^4) * (X + a^4 + 1) * (X + a^4 + a) * (X + a^4 + a + 1) * (X + a^4 + a^2) * (X + a^4 + a^2 + 1) * (X + a^4 + a^2 + a) * (X + a^4 + a^2 + a + 1) * (X + a^4 + a^3) * (X + a^4 + a^3 + 1) * (X + a^4 + a^3 + a) * (X + a^4 + a^3 + a + 1) * (X + a^4 + a^3 + a^2) * (X + a^4 + a^3 + a^2 + 1) * (X + a^4 + a^3 + a^2 + a) * (X + a^4 + a^3 + a^2 + a + 1) * (X + a^5) * (X + a^5 + 1) * (X + a^5 + a) * (X + a^5 + a + 1) * (X + a^5 + a^2) * (X + a^5 + a^2 + 1) * (X + a^5 + a^2 + a) * (X + a^5 + a^2 + a + 1) * (X + a^5 + a^3) * (X + a^5 + a^3 + 1) * (X + a^5 + a^3 + a) * (X + a^5 + a^3 + a + 1) * (X + a^5 + a^3 + a^2) * (X + a^5 + a^3 + a^2 + 1) * (X + a^5 + a^3 + a^2 + a) * (X + a^5 + a^3 + a^2 + a + 1) * (X + a^5 + a^4) * (X + a^5 + a^4 + 1) * (X + a^5 + a^4 + a) * (X + a^5 + a^4 + a + 1) * (X + a^5 + a^4 + a^2) * (X + a^5 + a^4 + a^2 + 1) * (X + a^5 + a^4 + a^2 + a) * (X + a^5 + a^4 + a^2 + a + 1) * (X + a^5 + a^4 + a^3) * (X + a^5 + a^4 + a^3 + 1) * (X + a^5 + a^4 + a^3 + a) * (X + a^5 + a^4 + a^3 + a + 1) * (X + a^5 + a^4 + a^3 + a^2) * (X + a^5 + a^4 + a^3 + a^2 + 1) * (X + a^5 + a^4 + a^3 + a^2 + a) * (X + a^5 + a^4 + a^3 + a^2 + a + 1)"
      ]
     },
     "execution_count": 591,
     "metadata": {},
     "output_type": "execute_result"
    }
   ],
   "source": [
    "#OU\n",
    "Fq.<a>=GF(2^6,name='a')\n",
    "R.<X>=GF(2^6,name='a')['X']\n",
    "P=X^64-X\n",
    "P.factor()"
   ]
  },
  {
   "cell_type": "code",
   "execution_count": 10,
   "metadata": {},
   "outputs": [
    {
     "data": {
      "text/plain": [
       "True"
      ]
     },
     "execution_count": 10,
     "metadata": {},
     "output_type": "execute_result"
    }
   ],
   "source": [
    "(X + a^3 + a + 1).is_irreducible()"
   ]
  },
  {
   "cell_type": "code",
   "execution_count": 11,
   "metadata": {},
   "outputs": [],
   "source": [
    "# Question 2\n",
    "# 1)"
   ]
  },
  {
   "cell_type": "code",
   "execution_count": 12,
   "metadata": {},
   "outputs": [],
   "source": [
    "def test_Moebius(n):\n",
    "    liste=[-1,0,1]\n",
    "    for i in range(1,n+1):\n",
    "        if(moebius(i) not in liste):\n",
    "            return False\n",
    "    return True"
   ]
  },
  {
   "cell_type": "code",
   "execution_count": 13,
   "metadata": {},
   "outputs": [
    {
     "data": {
      "text/plain": [
       "True"
      ]
     },
     "execution_count": 13,
     "metadata": {},
     "output_type": "execute_result"
    }
   ],
   "source": [
    "test_Moebius(100)"
   ]
  },
  {
   "cell_type": "code",
   "execution_count": 14,
   "metadata": {},
   "outputs": [],
   "source": [
    "# 2)"
   ]
  },
  {
   "cell_type": "code",
   "execution_count": 15,
   "metadata": {},
   "outputs": [
    {
     "data": {
      "text/plain": [
       "1"
      ]
     },
     "execution_count": 15,
     "metadata": {},
     "output_type": "execute_result"
    }
   ],
   "source": [
    "moebius(1) # pour 1"
   ]
  },
  {
   "cell_type": "code",
   "execution_count": 16,
   "metadata": {},
   "outputs": [],
   "source": [
    "def test_Euler():\n",
    "    for i in range(2,101):\n",
    "        somme=0\n",
    "        for j in range(1,i+1):\n",
    "            if(i%j==0):\n",
    "                #print(j, \" divise\", i)\n",
    "                somme=somme+moebius(j)\n",
    "        if(somme!=0):\n",
    "            return False\n",
    "    return True"
   ]
  },
  {
   "cell_type": "code",
   "execution_count": 17,
   "metadata": {},
   "outputs": [
    {
     "data": {
      "text/plain": [
       "True"
      ]
     },
     "execution_count": 17,
     "metadata": {},
     "output_type": "execute_result"
    }
   ],
   "source": [
    "test_Euler()"
   ]
  },
  {
   "cell_type": "code",
   "execution_count": 18,
   "metadata": {},
   "outputs": [],
   "source": [
    "# 3)"
   ]
  },
  {
   "cell_type": "code",
   "execution_count": 19,
   "metadata": {},
   "outputs": [],
   "source": [
    "def Phi(n):\n",
    "    somme=0\n",
    "    for i in range(1,n+1):\n",
    "        if(n%i==0):\n",
    "            somme=somme+moebius(n/i)*i\n",
    "    return somme"
   ]
  },
  {
   "cell_type": "code",
   "execution_count": 20,
   "metadata": {},
   "outputs": [
    {
     "data": {
      "text/plain": [
       "40"
      ]
     },
     "execution_count": 20,
     "metadata": {},
     "output_type": "execute_result"
    }
   ],
   "source": [
    "Phi(100)"
   ]
  },
  {
   "cell_type": "code",
   "execution_count": 21,
   "metadata": {},
   "outputs": [
    {
     "data": {
      "text/plain": [
       "40"
      ]
     },
     "execution_count": 21,
     "metadata": {},
     "output_type": "execute_result"
    }
   ],
   "source": [
    "euler_phi(100)"
   ]
  },
  {
   "cell_type": "code",
   "execution_count": 22,
   "metadata": {},
   "outputs": [],
   "source": [
    "# Question 3"
   ]
  },
  {
   "cell_type": "code",
   "execution_count": 23,
   "metadata": {},
   "outputs": [],
   "source": [
    "def Irr(p,n):\n",
    "    somme=0\n",
    "    for i in range(1,n+1):\n",
    "        if(n%i==0):\n",
    "            somme=somme+(moebius(n/i) * p^i)\n",
    "    valeur = (1/n)*somme\n",
    "    return valeur"
   ]
  },
  {
   "cell_type": "code",
   "execution_count": 24,
   "metadata": {},
   "outputs": [],
   "source": [
    "def IrreductibleInf(p,n):\n",
    "    somme=0\n",
    "    for indice in range(1,n+1):\n",
    "        indice=Integer(indice) #convertit un anneau entier\n",
    "        print(Irr(p,indice))"
   ]
  },
  {
   "cell_type": "code",
   "execution_count": 25,
   "metadata": {},
   "outputs": [
    {
     "name": "stdout",
     "output_type": "stream",
     "text": [
      "2\n",
      "1\n",
      "2\n",
      "3\n",
      "6\n",
      "9\n",
      "18\n",
      "30\n",
      "56\n",
      "99\n"
     ]
    }
   ],
   "source": [
    "IrreductibleInf(2,10)"
   ]
  },
  {
   "cell_type": "code",
   "execution_count": 26,
   "metadata": {},
   "outputs": [
    {
     "name": "stdout",
     "output_type": "stream",
     "text": [
      "3\n",
      "3\n",
      "8\n",
      "18\n",
      "48\n",
      "116\n",
      "312\n",
      "810\n",
      "2184\n",
      "5880\n"
     ]
    }
   ],
   "source": [
    "IrreductibleInf(3,10)"
   ]
  },
  {
   "cell_type": "code",
   "execution_count": 27,
   "metadata": {},
   "outputs": [
    {
     "name": "stdout",
     "output_type": "stream",
     "text": [
      "5\n",
      "10\n",
      "40\n",
      "150\n",
      "624\n",
      "2580\n",
      "11160\n",
      "48750\n",
      "217000\n",
      "976248\n"
     ]
    }
   ],
   "source": [
    "IrreductibleInf(5,10)"
   ]
  },
  {
   "cell_type": "code",
   "execution_count": 28,
   "metadata": {},
   "outputs": [],
   "source": [
    "# Question 4"
   ]
  },
  {
   "cell_type": "code",
   "execution_count": 29,
   "metadata": {},
   "outputs": [],
   "source": [
    "def IrreductibleInf2(p,n):\n",
    "    R.<X>=GF(p)['X']\n",
    "    result=[]\n",
    "    for k in range(1,n+1):\n",
    "        k=Integer(k)\n",
    "        l=[ i for i, mul in factor( X^(p^k)-X ) if i.degree()== k ] \n",
    "        result=result+l\n",
    "    return (len(result),result)"
   ]
  },
  {
   "cell_type": "code",
   "execution_count": 30,
   "metadata": {},
   "outputs": [],
   "source": [
    "tuple1=IrreductibleInf2(2,6)"
   ]
  },
  {
   "cell_type": "code",
   "execution_count": 31,
   "metadata": {},
   "outputs": [
    {
     "data": {
      "text/plain": [
       "23"
      ]
     },
     "execution_count": 31,
     "metadata": {},
     "output_type": "execute_result"
    }
   ],
   "source": [
    "tuple1[0]"
   ]
  },
  {
   "cell_type": "code",
   "execution_count": 32,
   "metadata": {},
   "outputs": [],
   "source": [
    "tuple1=IrreductibleInf2(2,10)"
   ]
  },
  {
   "cell_type": "code",
   "execution_count": 33,
   "metadata": {},
   "outputs": [
    {
     "data": {
      "text/plain": [
       "226"
      ]
     },
     "execution_count": 33,
     "metadata": {},
     "output_type": "execute_result"
    }
   ],
   "source": [
    "tuple1[0] "
   ]
  },
  {
   "cell_type": "code",
   "execution_count": 34,
   "metadata": {},
   "outputs": [
    {
     "data": {
      "text/plain": [
       "[X,\n",
       " X + 1,\n",
       " X^2 + X + 1,\n",
       " X^3 + X + 1,\n",
       " X^3 + X^2 + 1,\n",
       " X^4 + X + 1,\n",
       " X^4 + X^3 + 1,\n",
       " X^4 + X^3 + X^2 + X + 1,\n",
       " X^5 + X^2 + 1,\n",
       " X^5 + X^3 + 1,\n",
       " X^5 + X^3 + X^2 + X + 1,\n",
       " X^5 + X^4 + X^2 + X + 1,\n",
       " X^5 + X^4 + X^3 + X + 1,\n",
       " X^5 + X^4 + X^3 + X^2 + 1,\n",
       " X^6 + X + 1,\n",
       " X^6 + X^3 + 1,\n",
       " X^6 + X^4 + X^2 + X + 1,\n",
       " X^6 + X^4 + X^3 + X + 1,\n",
       " X^6 + X^5 + 1,\n",
       " X^6 + X^5 + X^2 + X + 1,\n",
       " X^6 + X^5 + X^3 + X^2 + 1,\n",
       " X^6 + X^5 + X^4 + X + 1,\n",
       " X^6 + X^5 + X^4 + X^2 + 1,\n",
       " X^7 + X + 1,\n",
       " X^7 + X^3 + 1,\n",
       " X^7 + X^3 + X^2 + X + 1,\n",
       " X^7 + X^4 + 1,\n",
       " X^7 + X^4 + X^3 + X^2 + 1,\n",
       " X^7 + X^5 + X^2 + X + 1,\n",
       " X^7 + X^5 + X^3 + X + 1,\n",
       " X^7 + X^5 + X^4 + X^3 + 1,\n",
       " X^7 + X^5 + X^4 + X^3 + X^2 + X + 1,\n",
       " X^7 + X^6 + 1,\n",
       " X^7 + X^6 + X^3 + X + 1,\n",
       " X^7 + X^6 + X^4 + X + 1,\n",
       " X^7 + X^6 + X^4 + X^2 + 1,\n",
       " X^7 + X^6 + X^5 + X^2 + 1,\n",
       " X^7 + X^6 + X^5 + X^3 + X^2 + X + 1,\n",
       " X^7 + X^6 + X^5 + X^4 + 1,\n",
       " X^7 + X^6 + X^5 + X^4 + X^2 + X + 1,\n",
       " X^7 + X^6 + X^5 + X^4 + X^3 + X^2 + 1,\n",
       " X^8 + X^4 + X^3 + X + 1,\n",
       " X^8 + X^4 + X^3 + X^2 + 1,\n",
       " X^8 + X^5 + X^3 + X + 1,\n",
       " X^8 + X^5 + X^3 + X^2 + 1,\n",
       " X^8 + X^5 + X^4 + X^3 + 1,\n",
       " X^8 + X^5 + X^4 + X^3 + X^2 + X + 1,\n",
       " X^8 + X^6 + X^3 + X^2 + 1,\n",
       " X^8 + X^6 + X^4 + X^3 + X^2 + X + 1,\n",
       " X^8 + X^6 + X^5 + X + 1,\n",
       " X^8 + X^6 + X^5 + X^2 + 1,\n",
       " X^8 + X^6 + X^5 + X^3 + 1,\n",
       " X^8 + X^6 + X^5 + X^4 + 1,\n",
       " X^8 + X^6 + X^5 + X^4 + X^2 + X + 1,\n",
       " X^8 + X^6 + X^5 + X^4 + X^3 + X + 1,\n",
       " X^8 + X^7 + X^2 + X + 1,\n",
       " X^8 + X^7 + X^3 + X + 1,\n",
       " X^8 + X^7 + X^3 + X^2 + 1,\n",
       " X^8 + X^7 + X^4 + X^3 + X^2 + X + 1,\n",
       " X^8 + X^7 + X^5 + X + 1,\n",
       " X^8 + X^7 + X^5 + X^3 + 1,\n",
       " X^8 + X^7 + X^5 + X^4 + 1,\n",
       " X^8 + X^7 + X^5 + X^4 + X^3 + X^2 + 1,\n",
       " X^8 + X^7 + X^6 + X + 1,\n",
       " X^8 + X^7 + X^6 + X^3 + X^2 + X + 1,\n",
       " X^8 + X^7 + X^6 + X^4 + X^2 + X + 1,\n",
       " X^8 + X^7 + X^6 + X^4 + X^3 + X^2 + 1,\n",
       " X^8 + X^7 + X^6 + X^5 + X^2 + X + 1,\n",
       " X^8 + X^7 + X^6 + X^5 + X^4 + X + 1,\n",
       " X^8 + X^7 + X^6 + X^5 + X^4 + X^2 + 1,\n",
       " X^8 + X^7 + X^6 + X^5 + X^4 + X^3 + 1,\n",
       " X^9 + X + 1,\n",
       " X^9 + X^4 + 1,\n",
       " X^9 + X^4 + X^2 + X + 1,\n",
       " X^9 + X^4 + X^3 + X + 1,\n",
       " X^9 + X^5 + 1,\n",
       " X^9 + X^5 + X^3 + X^2 + 1,\n",
       " X^9 + X^5 + X^4 + X + 1,\n",
       " X^9 + X^6 + X^3 + X + 1,\n",
       " X^9 + X^6 + X^4 + X^3 + 1,\n",
       " X^9 + X^6 + X^4 + X^3 + X^2 + X + 1,\n",
       " X^9 + X^6 + X^5 + X^2 + 1,\n",
       " X^9 + X^6 + X^5 + X^3 + 1,\n",
       " X^9 + X^6 + X^5 + X^3 + X^2 + X + 1,\n",
       " X^9 + X^6 + X^5 + X^4 + X^2 + X + 1,\n",
       " X^9 + X^6 + X^5 + X^4 + X^3 + X^2 + 1,\n",
       " X^9 + X^7 + X^2 + X + 1,\n",
       " X^9 + X^7 + X^4 + X^2 + 1,\n",
       " X^9 + X^7 + X^4 + X^3 + 1,\n",
       " X^9 + X^7 + X^5 + X + 1,\n",
       " X^9 + X^7 + X^5 + X^2 + 1,\n",
       " X^9 + X^7 + X^5 + X^3 + X^2 + X + 1,\n",
       " X^9 + X^7 + X^5 + X^4 + X^2 + X + 1,\n",
       " X^9 + X^7 + X^5 + X^4 + X^3 + X^2 + 1,\n",
       " X^9 + X^7 + X^6 + X^3 + X^2 + X + 1,\n",
       " X^9 + X^7 + X^6 + X^4 + 1,\n",
       " X^9 + X^7 + X^6 + X^4 + X^3 + X + 1,\n",
       " X^9 + X^7 + X^6 + X^5 + X^4 + X^2 + 1,\n",
       " X^9 + X^7 + X^6 + X^5 + X^4 + X^3 + 1,\n",
       " X^9 + X^8 + 1,\n",
       " X^9 + X^8 + X^4 + X + 1,\n",
       " X^9 + X^8 + X^4 + X^2 + 1,\n",
       " X^9 + X^8 + X^4 + X^3 + X^2 + X + 1,\n",
       " X^9 + X^8 + X^5 + X + 1,\n",
       " X^9 + X^8 + X^5 + X^4 + 1,\n",
       " X^9 + X^8 + X^5 + X^4 + X^3 + X + 1,\n",
       " X^9 + X^8 + X^6 + X^3 + 1,\n",
       " X^9 + X^8 + X^6 + X^3 + X^2 + X + 1,\n",
       " X^9 + X^8 + X^6 + X^4 + X^3 + X + 1,\n",
       " X^9 + X^8 + X^6 + X^5 + 1,\n",
       " X^9 + X^8 + X^6 + X^5 + X^3 + X + 1,\n",
       " X^9 + X^8 + X^6 + X^5 + X^3 + X^2 + 1,\n",
       " X^9 + X^8 + X^6 + X^5 + X^4 + X + 1,\n",
       " X^9 + X^8 + X^6 + X^5 + X^4 + X^3 + X^2 + X + 1,\n",
       " X^9 + X^8 + X^7 + X^2 + 1,\n",
       " X^9 + X^8 + X^7 + X^3 + X^2 + X + 1,\n",
       " X^9 + X^8 + X^7 + X^5 + 1,\n",
       " X^9 + X^8 + X^7 + X^5 + X^4 + X^2 + 1,\n",
       " X^9 + X^8 + X^7 + X^5 + X^4 + X^3 + 1,\n",
       " X^9 + X^8 + X^7 + X^6 + X^2 + X + 1,\n",
       " X^9 + X^8 + X^7 + X^6 + X^3 + X + 1,\n",
       " X^9 + X^8 + X^7 + X^6 + X^3 + X^2 + 1,\n",
       " X^9 + X^8 + X^7 + X^6 + X^4 + X^2 + 1,\n",
       " X^9 + X^8 + X^7 + X^6 + X^4 + X^3 + 1,\n",
       " X^9 + X^8 + X^7 + X^6 + X^5 + X + 1,\n",
       " X^9 + X^8 + X^7 + X^6 + X^5 + X^3 + 1,\n",
       " X^9 + X^8 + X^7 + X^6 + X^5 + X^4 + X^3 + X + 1,\n",
       " X^10 + X^3 + 1,\n",
       " X^10 + X^3 + X^2 + X + 1,\n",
       " X^10 + X^4 + X^3 + X + 1,\n",
       " X^10 + X^4 + X^3 + X^2 + 1,\n",
       " X^10 + X^5 + X^2 + X + 1,\n",
       " X^10 + X^5 + X^3 + X^2 + 1,\n",
       " X^10 + X^5 + X^4 + X^2 + 1,\n",
       " X^10 + X^6 + X^2 + X + 1,\n",
       " X^10 + X^6 + X^4 + X + 1,\n",
       " X^10 + X^6 + X^5 + X + 1,\n",
       " X^10 + X^6 + X^5 + X^2 + 1,\n",
       " X^10 + X^6 + X^5 + X^3 + X^2 + X + 1,\n",
       " X^10 + X^7 + 1,\n",
       " X^10 + X^7 + X^3 + X + 1,\n",
       " X^10 + X^7 + X^4 + X^3 + 1,\n",
       " X^10 + X^7 + X^5 + X^3 + 1,\n",
       " X^10 + X^7 + X^5 + X^3 + X^2 + X + 1,\n",
       " X^10 + X^7 + X^6 + X^2 + 1,\n",
       " X^10 + X^7 + X^6 + X^3 + 1,\n",
       " X^10 + X^7 + X^6 + X^4 + X^2 + X + 1,\n",
       " X^10 + X^7 + X^6 + X^5 + X^2 + X + 1,\n",
       " X^10 + X^7 + X^6 + X^5 + X^3 + X^2 + 1,\n",
       " X^10 + X^7 + X^6 + X^5 + X^4 + X + 1,\n",
       " X^10 + X^7 + X^6 + X^5 + X^4 + X^3 + X^2 + X + 1,\n",
       " X^10 + X^8 + X^3 + X + 1,\n",
       " X^10 + X^8 + X^3 + X^2 + 1,\n",
       " X^10 + X^8 + X^4 + X^3 + 1,\n",
       " X^10 + X^8 + X^4 + X^3 + X^2 + X + 1,\n",
       " X^10 + X^8 + X^5 + X + 1,\n",
       " X^10 + X^8 + X^5 + X^4 + 1,\n",
       " X^10 + X^8 + X^5 + X^4 + X^3 + X^2 + 1,\n",
       " X^10 + X^8 + X^6 + X + 1,\n",
       " X^10 + X^8 + X^6 + X^4 + X^2 + X + 1,\n",
       " X^10 + X^8 + X^6 + X^5 + 1,\n",
       " X^10 + X^8 + X^6 + X^5 + X^2 + X + 1,\n",
       " X^10 + X^8 + X^6 + X^5 + X^3 + X + 1,\n",
       " X^10 + X^8 + X^7 + X^2 + 1,\n",
       " X^10 + X^8 + X^7 + X^3 + X^2 + X + 1,\n",
       " X^10 + X^8 + X^7 + X^4 + X^2 + X + 1,\n",
       " X^10 + X^8 + X^7 + X^4 + X^3 + X + 1,\n",
       " X^10 + X^8 + X^7 + X^5 + 1,\n",
       " X^10 + X^8 + X^7 + X^5 + X^3 + X + 1,\n",
       " X^10 + X^8 + X^7 + X^5 + X^4 + X^3 + 1,\n",
       " X^10 + X^8 + X^7 + X^6 + 1,\n",
       " X^10 + X^8 + X^7 + X^6 + X^2 + X + 1,\n",
       " X^10 + X^8 + X^7 + X^6 + X^5 + X^2 + 1,\n",
       " X^10 + X^8 + X^7 + X^6 + X^5 + X^4 + X^2 + X + 1,\n",
       " X^10 + X^8 + X^7 + X^6 + X^5 + X^4 + X^3 + X + 1,\n",
       " X^10 + X^9 + X^4 + X + 1,\n",
       " X^10 + X^9 + X^4 + X^2 + 1,\n",
       " X^10 + X^9 + X^5 + X + 1,\n",
       " X^10 + X^9 + X^5 + X^2 + 1,\n",
       " X^10 + X^9 + X^5 + X^4 + 1,\n",
       " X^10 + X^9 + X^5 + X^4 + X^2 + X + 1,\n",
       " X^10 + X^9 + X^6 + X + 1,\n",
       " X^10 + X^9 + X^6 + X^3 + X^2 + X + 1,\n",
       " X^10 + X^9 + X^6 + X^4 + 1,\n",
       " X^10 + X^9 + X^6 + X^4 + X^3 + X + 1,\n",
       " X^10 + X^9 + X^6 + X^5 + X^4 + X^3 + 1,\n",
       " X^10 + X^9 + X^6 + X^5 + X^4 + X^3 + X^2 + X + 1,\n",
       " X^10 + X^9 + X^7 + X^2 + 1,\n",
       " X^10 + X^9 + X^7 + X^3 + 1,\n",
       " X^10 + X^9 + X^7 + X^5 + X^2 + X + 1,\n",
       " X^10 + X^9 + X^7 + X^5 + X^3 + X^2 + 1,\n",
       " X^10 + X^9 + X^7 + X^5 + X^4 + X^2 + 1,\n",
       " X^10 + X^9 + X^7 + X^5 + X^4 + X^3 + X^2 + X + 1,\n",
       " X^10 + X^9 + X^7 + X^6 + 1,\n",
       " X^10 + X^9 + X^7 + X^6 + X^3 + X^2 + 1,\n",
       " X^10 + X^9 + X^7 + X^6 + X^4 + X + 1,\n",
       " X^10 + X^9 + X^7 + X^6 + X^4 + X^3 + X^2 + X + 1,\n",
       " X^10 + X^9 + X^7 + X^6 + X^5 + X^4 + X^2 + X + 1,\n",
       " X^10 + X^9 + X^7 + X^6 + X^5 + X^4 + X^3 + X^2 + 1,\n",
       " X^10 + X^9 + X^8 + X^3 + X^2 + X + 1,\n",
       " X^10 + X^9 + X^8 + X^4 + 1,\n",
       " X^10 + X^9 + X^8 + X^4 + X^2 + X + 1,\n",
       " X^10 + X^9 + X^8 + X^4 + X^3 + X^2 + 1,\n",
       " X^10 + X^9 + X^8 + X^5 + 1,\n",
       " X^10 + X^9 + X^8 + X^5 + X^3 + X + 1,\n",
       " X^10 + X^9 + X^8 + X^5 + X^4 + X^2 + 1,\n",
       " X^10 + X^9 + X^8 + X^5 + X^4 + X^3 + 1,\n",
       " X^10 + X^9 + X^8 + X^6 + X^2 + X + 1,\n",
       " X^10 + X^9 + X^8 + X^6 + X^3 + X^2 + 1,\n",
       " X^10 + X^9 + X^8 + X^6 + X^4 + X^2 + 1,\n",
       " X^10 + X^9 + X^8 + X^6 + X^4 + X^3 + 1,\n",
       " X^10 + X^9 + X^8 + X^6 + X^5 + X + 1,\n",
       " X^10 + X^9 + X^8 + X^6 + X^5 + X^4 + X^3 + X + 1,\n",
       " X^10 + X^9 + X^8 + X^6 + X^5 + X^4 + X^3 + X^2 + 1,\n",
       " X^10 + X^9 + X^8 + X^7 + 1,\n",
       " X^10 + X^9 + X^8 + X^7 + X^2 + X + 1,\n",
       " X^10 + X^9 + X^8 + X^7 + X^3 + X^2 + 1,\n",
       " X^10 + X^9 + X^8 + X^7 + X^4 + X + 1,\n",
       " X^10 + X^9 + X^8 + X^7 + X^5 + X^3 + 1,\n",
       " X^10 + X^9 + X^8 + X^7 + X^5 + X^4 + 1,\n",
       " X^10 + X^9 + X^8 + X^7 + X^6 + X^2 + 1,\n",
       " X^10 + X^9 + X^8 + X^7 + X^6 + X^4 + X^3 + X + 1,\n",
       " X^10 + X^9 + X^8 + X^7 + X^6 + X^5 + X^3 + X + 1,\n",
       " X^10 + X^9 + X^8 + X^7 + X^6 + X^5 + X^4 + X + 1,\n",
       " X^10 + X^9 + X^8 + X^7 + X^6 + X^5 + X^4 + X^3 + 1,\n",
       " X^10 + X^9 + X^8 + X^7 + X^6 + X^5 + X^4 + X^3 + X^2 + X + 1]"
      ]
     },
     "execution_count": 34,
     "metadata": {},
     "output_type": "execute_result"
    }
   ],
   "source": [
    "tuple1[1]"
   ]
  },
  {
   "cell_type": "code",
   "execution_count": 35,
   "metadata": {},
   "outputs": [],
   "source": [
    "#Question 5"
   ]
  },
  {
   "cell_type": "code",
   "execution_count": 5,
   "metadata": {},
   "outputs": [],
   "source": [
    "def codeGRS(q,x,v,alpha):\n",
    "    #TEST sur les paramètres et initialisation \n",
    "    if len(alpha) != len(v) :\n",
    "        return False\n",
    "    Fq.<a>=GF(q,name='a')\n",
    "    R.<X>=GF(q,name='a')['X']\n",
    "    f =0\n",
    "    n=len(x)\n",
    "    #test des valeurs de x\n",
    "    for index, car in enumerate(x):  \n",
    "        f = f + x[index]* X^(n-1-index)  #initialisation du polynome avec le cast Integer() pour \n",
    "    #application de l'évaluation\n",
    "    y = []\n",
    "    for i, a in enumerate(alpha):\n",
    "        y.append(v[i] * f(a))\n",
    "    return y"
   ]
  },
  {
   "cell_type": "code",
   "execution_count": 6,
   "metadata": {},
   "outputs": [],
   "source": [
    "v_test = [1]*10 #normalement on choisit v et alpha de taille q-1 pour l'exemple on prendra une valeur inférieur\n",
    "alpha_test = [11, 17, 13, 20, 15, 16, 12, 18, 19, 14] \n",
    "Fq.<a>=GF(2^6,name='a')\n",
    "alpha_test2 = [1, a^2, a^2+1, a^3, a^3+1, a, a+1, a^3+a^2+1,a^2+a, a^2+a+1] \n",
    "q = 23\n",
    "q2 = 2^6"
   ]
  },
  {
   "cell_type": "code",
   "execution_count": 7,
   "metadata": {},
   "outputs": [
    {
     "name": "stdout",
     "output_type": "stream",
     "text": [
      "[8, 0, 4, 21, 7, 19, 7, 3, 2, 2]\n",
      "[a^2 + a + 1, a^4, a^4 + a^3 + a^2, a^5 + a^3 + a + 1, a^3 + a, a^5 + a + 1, 0, a^4 + a^3 + a^2 + a + 1, a^5 + a^4 + a^2 + 1, a^4 + a^2 + a + 1]\n"
     ]
    }
   ],
   "source": [
    "Fq.<a>=GF(64,name='a')\n",
    "msg=[12,5,3,6,9,10]\n",
    "msg2=[a,a^3+1,a+1,1,a^2,a^3+a]\n",
    "message_code = codeGRS(q,msg, v_test, alpha_test)\n",
    "message_code2 = codeGRS(q2,msg2, v_test, alpha_test2)\n",
    "print(message_code)\n",
    "print(message_code2)"
   ]
  },
  {
   "cell_type": "code",
   "execution_count": 567,
   "metadata": {},
   "outputs": [],
   "source": [
    "#Question 6"
   ]
  },
  {
   "cell_type": "code",
   "execution_count": 14,
   "metadata": {},
   "outputs": [],
   "source": [
    "def LI(q, alpha, i):\n",
    "    n = len(alpha)\n",
    "    if i not in range(n):\n",
    "        return False\n",
    "    #initialisation\n",
    "    R.<X> = GF(q,name='a')['X'] \n",
    "    y = 1\n",
    "    for j in range(n):\n",
    "        if j != i:\n",
    "            y = y * (X - alpha[j]) \n",
    "    return y"
   ]
  },
  {
   "cell_type": "code",
   "execution_count": 569,
   "metadata": {},
   "outputs": [
    {
     "name": "stdout",
     "output_type": "stream",
     "text": [
      "X^6 + (a^4 + a + 1)*X^5 + (a^5 + a^4 + a + 1)*X^4 + (a^5 + a^4 + a + 1)*X^3 + (a^5 + a^4 + a)*X^2 + a^5*X\n"
     ]
    }
   ],
   "source": [
    "#test\n",
    "Fq.<a>=GF(2^8,name='a')\n",
    "print(LI(2^8,[19,a,8,a^4,97,12,59],2))"
   ]
  },
  {
   "cell_type": "code",
   "execution_count": 8,
   "metadata": {},
   "outputs": [],
   "source": [
    "def decodeGRS(q, code, v, alpha):\n",
    "    if len(alpha) != len(v):\n",
    "        return False\n",
    "    \n",
    "    \n",
    "    #initialisation\n",
    "    Fq.<a>=GF(q, name='a')\n",
    "    R.<X>=GF(q, name='a')['X']\n",
    "    y = []\n",
    "\n",
    "    dec = R.zero()\n",
    "    #boucle\n",
    "    for index, a in enumerate(alpha):\n",
    "        pol = LI(q, alpha, index)\n",
    "        dec = dec + code[index] * (v[index] * pol(a))^(-1) *  pol\n",
    "    \n",
    "    y=dec.list()\n",
    "    y.reverse()\n",
    "    return y"
   ]
  },
  {
   "cell_type": "code",
   "execution_count": 571,
   "metadata": {},
   "outputs": [
    {
     "name": "stdout",
     "output_type": "stream",
     "text": [
      "message décodé  :  [12, 5, 3, 6, 9, 10]  et message original  :  [12, 5, 3, 6, 9, 10]\n",
      "message décodé  :  [a, a^3 + 1, a + 1, 1, a^2, a^3 + a]  et message original  :  [a, a^3 + 1, a + 1, 1, a^2, a^3 + a]\n"
     ]
    }
   ],
   "source": [
    "msg_decode = decodeGRS(q, message_code, v_test, alpha_test)\n",
    "msg_decode2 = decodeGRS(q2, message_code2, v_test, alpha_test2)\n",
    "print(\"message décodé  : \", msg_decode, \" et message original  : \",msg)\n",
    "print(\"message décodé  : \", msg_decode2, \" et message original  : \",msg2)"
   ]
  },
  {
   "cell_type": "code",
   "execution_count": 20,
   "metadata": {},
   "outputs": [
    {
     "name": "stdout",
     "output_type": "stream",
     "text": [
      "[8, 0, 7, 21, 7, 19, 3, 7, 2, 2]\n"
     ]
    }
   ],
   "source": [
    "#cas alpha non distinct \n",
    "alpha_test3 = [11, 17, 15, 20, 15, 16, 18, 15, 19, 14] \n",
    "Fq.<a>=GF(2^6,name='a')\n",
    "R.<X>=GF(2^6,name='a')['X']\n",
    "message_code = codeGRS(q,msg, v_test, alpha_test3)\n",
    "#msg_decode = decodeGRS(q, message_code, v_test, alpha_test3)\n",
    "print(message_code)\n",
    "#print(msg_decode)"
   ]
  },
  {
   "cell_type": "code",
   "execution_count": 572,
   "metadata": {},
   "outputs": [],
   "source": [
    "#Question7"
   ]
  },
  {
   "cell_type": "code",
   "execution_count": 573,
   "metadata": {},
   "outputs": [],
   "source": [
    "import random\n",
    "def errTrans(q, y, nb_err):\n",
    "    yprime = list(y)\n",
    "    nb=len(yprime)\n",
    "    choix=[]\n",
    "    liste_ind=list(range(nb))\n",
    "    arret=0\n",
    "    \n",
    "    #choix des index\n",
    "    for i in range(nb_err):\n",
    "        j=random.randrange(0,nb)\n",
    "        if j not in choix :\n",
    "            choix.append(j)\n",
    "        else:\n",
    "            while j in choix and arret<1000: #arret pour ne pas avoir une boucle infini...\n",
    "                j=random.randrange(0,nb)\n",
    "            choix.append(j)\n",
    "            \n",
    "    Fq.<a>=GF(q, name='a')        \n",
    "    \n",
    "    \n",
    "    for index in choix:\n",
    "        yprime[index] = Fq.list()[random.randrange(0,nb)]\n",
    "    return yprime"
   ]
  },
  {
   "cell_type": "code",
   "execution_count": 574,
   "metadata": {},
   "outputs": [
    {
     "name": "stdout",
     "output_type": "stream",
     "text": [
      "Message sans erreur :     [8, 0, 4, 21, 7, 19, 7, 3, 2, 2]  \n",
      "et message avec erreur :  [5, 0, 4, 21, 7, 1, 7, 3, 2, 2]\n",
      "Message sans erreur :     [a^2 + a + 1, a^4, a^4 + a^3 + a^2, a^5 + a^3 + a + 1, a^3 + a, a^5 + a + 1, 0, a^4 + a^3 + a^2 + a + 1, a^5 + a^4 + a^2 + 1, a^4 + a^2 + a + 1]  \n",
      "et message avec erreur :  [a^2 + a + 1, a^4, a^4 + a^3 + a^2, a^4 + a^3 + a + 1, a^3 + a, a^5 + a + 1, 0, a, a^5 + a^4 + a^2 + 1, a^4 + a^2 + a + 1]\n"
     ]
    }
   ],
   "source": [
    "nombre_erreur = 2\n",
    "errcode = errTrans(q, message_code, nombre_erreur)\n",
    "errcode2 = errTrans(q2, message_code2, nombre_erreur)\n",
    "print(\"Message sans erreur :    \", message_code, \" \\net message avec erreur : \",errcode)\n",
    "print(\"Message sans erreur :    \", message_code2, \" \\net message avec erreur : \",errcode2)"
   ]
  },
  {
   "cell_type": "code",
   "execution_count": 575,
   "metadata": {},
   "outputs": [],
   "source": [
    "#Question8"
   ]
  },
  {
   "cell_type": "code",
   "execution_count": 576,
   "metadata": {},
   "outputs": [
    {
     "name": "stdout",
     "output_type": "stream",
     "text": [
      "Message original :  [12, 5, 3, 6, 9, 10]\n",
      "Message de Lagrange avec des erreurs dans le message:  [15, 4, 0, 15, 1, 1, 10, 5, 13, 16]\n",
      "Message de Lagrange avec sans erreur dans le message:  [12, 5, 3, 6, 9, 10]\n"
     ]
    }
   ],
   "source": [
    "errcode=[8, 0, 4, 21, 4, 19, 7, 2, 2, 2]\n",
    "erreur_lagrande = decodeGRS(q, errcode, v_test, alpha_test)\n",
    "print(\"Message original : \",msg)\n",
    "print(\"Message de Lagrange avec des erreurs dans le message: \", erreur_lagrande)\n",
    "print(\"Message de Lagrange avec sans erreur dans le message: \", msg_decode)"
   ]
  },
  {
   "cell_type": "code",
   "execution_count": 577,
   "metadata": {},
   "outputs": [],
   "source": [
    "#On fixe l'erreur\n",
    "Fq.<a>=GF(q2,name='a')\n",
    "R.<X> = GF(q2, name='a')['X']\n",
    "errcode2=[a^2 + a + 1, a, a^5, a^5 + a^3 + a + 1, a^3 + a, a^5 + a + 1, 0, a^4 + a^3 + a^2 + a + 1, a^5 + a^4 + a^2 + 1, a^4 + a^2 + a + 1]"
   ]
  },
  {
   "cell_type": "code",
   "execution_count": 578,
   "metadata": {},
   "outputs": [],
   "source": [
    "#Question9"
   ]
  },
  {
   "cell_type": "code",
   "execution_count": 579,
   "metadata": {},
   "outputs": [],
   "source": [
    "def Syndrome(q, mot, v, alpha, k):\n",
    "    if len(alpha) != len(v):\n",
    "        return False\n",
    "    #initialisation\n",
    "    Fq.<a>=GF(q,name='a')\n",
    "    R.<X> = GF(q, name='a')['X']\n",
    "    n = len(v)\n",
    "    r = n-k\n",
    "    S = R.zero()\n",
    "    \n",
    "    for i in range(n): #SOMME de 0 à n-1 \n",
    "        prod = 1\n",
    "        for j in range(1, r): #SOMME de 0 à r-1 \n",
    "            prod += (alpha[i] * X)^j\n",
    "        Li = LI(q, alpha, i)\n",
    "        S += mot[i] * (v[i]^(-1) * (Li(R(alpha[i]))^(-1))) * prod \n",
    "    return S"
   ]
  },
  {
   "cell_type": "code",
   "execution_count": 580,
   "metadata": {},
   "outputs": [
    {
     "name": "stdout",
     "output_type": "stream",
     "text": [
      "18*X^3 + 12*X^2 + 6*X + 15\n",
      "(a^5 + a^4 + 1)*X^3 + (a^3 + a + 1)*X^2 + (a^4 + a^3)*X + a^5 + a^4 + a + 1\n"
     ]
    }
   ],
   "source": [
    "s = Syndrome(q, errcode, v_test, alpha_test, len(msg))\n",
    "s2 = Syndrome(q2, errcode2, v_test, alpha_test2, len(msg2))\n",
    "print(s)\n",
    "print(s2)"
   ]
  },
  {
   "cell_type": "code",
   "execution_count": 581,
   "metadata": {},
   "outputs": [],
   "source": [
    "#Question10"
   ]
  },
  {
   "cell_type": "code",
   "execution_count": 582,
   "metadata": {},
   "outputs": [
    {
     "name": "stdout",
     "output_type": "stream",
     "text": [
      "[4, 2, 2, 4]\n"
     ]
    }
   ],
   "source": [
    "v_test_10 = [1]*4 #normalement on choisit v et alpha de taille q-1 pour l'exemple on prendra une valeur inférieur\n",
    "alpha_test_10 = [2, 1, 4, 3] \n",
    "q_10 = 5\n",
    "msg_10=[4,5,3]\n",
    "message_code_10 = codeGRS(q_10,msg_10, v_test_10, alpha_test_10)\n",
    "print(message_code_10)"
   ]
  },
  {
   "cell_type": "code",
   "execution_count": 583,
   "metadata": {},
   "outputs": [
    {
     "name": "stdout",
     "output_type": "stream",
     "text": [
      "0\n",
      "0\n",
      "0\n"
     ]
    }
   ],
   "source": [
    "# =>\n",
    "s_test = Syndrome(q, message_code, v_test, alpha_test, len(msg))\n",
    "s_test1 = Syndrome(q2, message_code2, v_test, alpha_test2, len(msg2))\n",
    "s_test2 = Syndrome(q_10, message_code_10, v_test_10, alpha_test_10, len(msg_10))\n",
    "print(s_test)\n",
    "print(s_test1)\n",
    "print(s_test2)"
   ]
  },
  {
   "cell_type": "code",
   "execution_count": 584,
   "metadata": {},
   "outputs": [],
   "source": [
    "def test_syndrome_zero():\n",
    "    Fq.<a>=GF(q_10, name='a')       \n",
    "    for b in range(0,q_10):\n",
    "        bp=Fq.list()[b]\n",
    "        for c in range(0,q_10):\n",
    "            cp=Fq.list()[c]\n",
    "            for d in range(0,q_10):\n",
    "                dp=Fq.list()[d]\n",
    "                for e in range(0,q_10):\n",
    "                    ep=Fq.list()[e]\n",
    "                    mot=[bp,cp,dp,ep]\n",
    "                    #print(decodeGRS(q, mot, v_test_10, alpha_test_10))\n",
    "                    if(Syndrome(q_10, mot, v_test_10, alpha_test_10, len(msg))==0 and mot!=[0,0,0,0]):\n",
    "                        print(mot , \" : decode \" , decodeGRS(q_10, mot, v_test_10, alpha_test_10), \" et code pour vérifier decode\",\n",
    "                              codeGRS(q_10, decodeGRS(q_10, mot, v_test_10, alpha_test_10), v_test_10, alpha_test_10))"
   ]
  },
  {
   "cell_type": "code",
   "execution_count": 585,
   "metadata": {},
   "outputs": [
    {
     "name": "stdout",
     "output_type": "stream",
     "text": [
      "[0, 0, 1, 2]  : decode  [1, 2, 2]  et code pour vérifier decode [0, 0, 1, 2]\n",
      "[0, 0, 2, 4]  : decode  [2, 4, 4]  et code pour vérifier decode [0, 0, 2, 4]\n",
      "[0, 0, 3, 1]  : decode  [3, 1, 1]  et code pour vérifier decode [0, 0, 3, 1]\n",
      "[0, 0, 4, 3]  : decode  [4, 3, 3]  et code pour vérifier decode [0, 0, 4, 3]\n",
      "[0, 1, 0, 3]  : decode  [2, 3, 1]  et code pour vérifier decode [0, 1, 0, 3]\n",
      "[0, 1, 1, 0]  : decode  [3, 0, 3]  et code pour vérifier decode [0, 1, 1, 0]\n",
      "[0, 1, 2, 2]  : decode  [4, 2, 0]  et code pour vérifier decode [0, 1, 2, 2]\n",
      "[0, 1, 3, 4]  : decode  [4, 2]  et code pour vérifier decode [0, 1, 3, 4]\n",
      "[0, 1, 4, 1]  : decode  [1, 1, 4]  et code pour vérifier decode [0, 1, 4, 1]\n",
      "[0, 2, 0, 1]  : decode  [4, 1, 2]  et code pour vérifier decode [0, 2, 0, 1]\n",
      "[0, 2, 1, 3]  : decode  [3, 4]  et code pour vérifier decode [0, 2, 1, 3]\n",
      "[0, 2, 2, 0]  : decode  [1, 0, 1]  et code pour vérifier decode [0, 2, 2, 0]\n",
      "[0, 2, 3, 2]  : decode  [2, 2, 3]  et code pour vérifier decode [0, 2, 3, 2]\n",
      "[0, 2, 4, 4]  : decode  [3, 4, 0]  et code pour vérifier decode [0, 2, 4, 4]\n",
      "[0, 3, 0, 4]  : decode  [1, 4, 3]  et code pour vérifier decode [0, 3, 0, 4]\n",
      "[0, 3, 1, 1]  : decode  [2, 1, 0]  et code pour vérifier decode [0, 3, 1, 1]\n",
      "[0, 3, 2, 3]  : decode  [3, 3, 2]  et code pour vérifier decode [0, 3, 2, 3]\n",
      "[0, 3, 3, 0]  : decode  [4, 0, 4]  et code pour vérifier decode [0, 3, 3, 0]\n",
      "[0, 3, 4, 2]  : decode  [2, 1]  et code pour vérifier decode [0, 3, 4, 2]\n",
      "[0, 4, 0, 2]  : decode  [3, 2, 4]  et code pour vérifier decode [0, 4, 0, 2]\n",
      "[0, 4, 1, 4]  : decode  [4, 4, 1]  et code pour vérifier decode [0, 4, 1, 4]\n",
      "[0, 4, 2, 1]  : decode  [1, 3]  et code pour vérifier decode [0, 4, 2, 1]\n",
      "[0, 4, 3, 3]  : decode  [1, 3, 0]  et code pour vérifier decode [0, 4, 3, 3]\n",
      "[0, 4, 4, 0]  : decode  [2, 0, 2]  et code pour vérifier decode [0, 4, 4, 0]\n",
      "[1, 0, 0, 1]  : decode  [2, 0, 3]  et code pour vérifier decode [1, 0, 0, 1]\n",
      "[1, 0, 1, 3]  : decode  [3, 2, 0]  et code pour vérifier decode [1, 0, 1, 3]\n",
      "[1, 0, 2, 0]  : decode  [4, 4, 2]  et code pour vérifier decode [1, 0, 2, 0]\n",
      "[1, 0, 3, 2]  : decode  [1, 4]  et code pour vérifier decode [1, 0, 3, 2]\n",
      "[1, 0, 4, 4]  : decode  [1, 3, 1]  et code pour vérifier decode [1, 0, 4, 4]\n",
      "[1, 1, 0, 4]  : decode  [4, 3, 4]  et code pour vérifier decode [1, 1, 0, 4]\n",
      "[1, 1, 1, 1]  : decode  [1]  et code pour vérifier decode [1, 1, 1, 1]\n",
      "[1, 1, 2, 3]  : decode  [1, 2, 3]  et code pour vérifier decode [1, 1, 2, 3]\n",
      "[1, 1, 3, 0]  : decode  [2, 4, 0]  et code pour vérifier decode [1, 1, 3, 0]\n",
      "[1, 1, 4, 2]  : decode  [3, 1, 2]  et code pour vérifier decode [1, 1, 4, 2]\n",
      "[1, 2, 0, 2]  : decode  [1, 1, 0]  et code pour vérifier decode [1, 2, 0, 2]\n",
      "[1, 2, 1, 4]  : decode  [2, 3, 2]  et code pour vérifier decode [1, 2, 1, 4]\n",
      "[1, 2, 2, 1]  : decode  [3, 0, 4]  et code pour vérifier decode [1, 2, 2, 1]\n",
      "[1, 2, 3, 3]  : decode  [4, 2, 1]  et code pour vérifier decode [1, 2, 3, 3]\n",
      "[1, 2, 4, 0]  : decode  [4, 3]  et code pour vérifier decode [1, 2, 4, 0]\n",
      "[1, 3, 0, 0]  : decode  [3, 4, 1]  et code pour vérifier decode [1, 3, 0, 0]\n",
      "[1, 3, 1, 2]  : decode  [4, 1, 3]  et code pour vérifier decode [1, 3, 1, 2]\n",
      "[1, 3, 2, 4]  : decode  [3, 0]  et code pour vérifier decode [1, 3, 2, 4]\n",
      "[1, 3, 3, 1]  : decode  [1, 0, 2]  et code pour vérifier decode [1, 3, 3, 1]\n",
      "[1, 3, 4, 3]  : decode  [2, 2, 4]  et code pour vérifier decode [1, 3, 4, 3]\n",
      "[1, 4, 0, 3]  : decode  [2, 2]  et code pour vérifier decode [1, 4, 0, 3]\n",
      "[1, 4, 1, 0]  : decode  [1, 4, 4]  et code pour vérifier decode [1, 4, 1, 0]\n",
      "[1, 4, 2, 2]  : decode  [2, 1, 1]  et code pour vérifier decode [1, 4, 2, 2]\n",
      "[1, 4, 3, 4]  : decode  [3, 3, 3]  et code pour vérifier decode [1, 4, 3, 4]\n",
      "[1, 4, 4, 1]  : decode  [4, 0, 0]  et code pour vérifier decode [1, 4, 4, 1]\n",
      "[2, 0, 0, 2]  : decode  [4, 0, 1]  et code pour vérifier decode [2, 0, 0, 2]\n",
      "[2, 0, 1, 4]  : decode  [2, 3]  et code pour vérifier decode [2, 0, 1, 4]\n",
      "[2, 0, 2, 1]  : decode  [1, 4, 0]  et code pour vérifier decode [2, 0, 2, 1]\n",
      "[2, 0, 3, 3]  : decode  [2, 1, 2]  et code pour vérifier decode [2, 0, 3, 3]\n",
      "[2, 0, 4, 0]  : decode  [3, 3, 4]  et code pour vérifier decode [2, 0, 4, 0]\n",
      "[2, 1, 0, 0]  : decode  [1, 3, 2]  et code pour vérifier decode [2, 1, 0, 0]\n",
      "[2, 1, 1, 2]  : decode  [2, 0, 4]  et code pour vérifier decode [2, 1, 1, 2]\n",
      "[2, 1, 2, 4]  : decode  [3, 2, 1]  et code pour vérifier decode [2, 1, 2, 4]\n",
      "[2, 1, 3, 1]  : decode  [4, 4, 3]  et code pour vérifier decode [2, 1, 3, 1]\n",
      "[2, 1, 4, 3]  : decode  [1, 0]  et code pour vérifier decode [2, 1, 4, 3]\n",
      "[2, 2, 0, 3]  : decode  [3, 1, 3]  et code pour vérifier decode [2, 2, 0, 3]\n",
      "[2, 2, 1, 0]  : decode  [4, 3, 0]  et code pour vérifier decode [2, 2, 1, 0]\n",
      "[2, 2, 2, 2]  : decode  [2]  et code pour vérifier decode [2, 2, 2, 2]\n",
      "[2, 2, 3, 4]  : decode  [1, 2, 4]  et code pour vérifier decode [2, 2, 3, 4]\n",
      "[2, 2, 4, 1]  : decode  [2, 4, 1]  et code pour vérifier decode [2, 2, 4, 1]\n",
      "[2, 3, 0, 1]  : decode  [4, 4]  et code pour vérifier decode [2, 3, 0, 1]\n",
      "[2, 3, 1, 3]  : decode  [1, 1, 1]  et code pour vérifier decode [2, 3, 1, 3]\n",
      "[2, 3, 2, 0]  : decode  [2, 3, 3]  et code pour vérifier decode [2, 3, 2, 0]\n",
      "[2, 3, 3, 2]  : decode  [3, 0, 0]  et code pour vérifier decode [2, 3, 3, 2]\n",
      "[2, 3, 4, 4]  : decode  [4, 2, 2]  et code pour vérifier decode [2, 3, 4, 4]\n",
      "[2, 4, 0, 4]  : decode  [2, 2, 0]  et code pour vérifier decode [2, 4, 0, 4]\n",
      "[2, 4, 1, 1]  : decode  [3, 4, 2]  et code pour vérifier decode [2, 4, 1, 1]\n",
      "[2, 4, 2, 3]  : decode  [4, 1, 4]  et code pour vérifier decode [2, 4, 2, 3]\n",
      "[2, 4, 3, 0]  : decode  [3, 1]  et code pour vérifier decode [2, 4, 3, 0]\n",
      "[2, 4, 4, 2]  : decode  [1, 0, 3]  et code pour vérifier decode [2, 4, 4, 2]\n",
      "[3, 0, 0, 3]  : decode  [1, 0, 4]  et code pour vérifier decode [3, 0, 0, 3]\n",
      "[3, 0, 1, 0]  : decode  [2, 2, 1]  et code pour vérifier decode [3, 0, 1, 0]\n",
      "[3, 0, 2, 2]  : decode  [3, 4, 3]  et code pour vérifier decode [3, 0, 2, 2]\n",
      "[3, 0, 3, 4]  : decode  [4, 1, 0]  et code pour vérifier decode [3, 0, 3, 4]\n",
      "[3, 0, 4, 1]  : decode  [3, 2]  et code pour vérifier decode [3, 0, 4, 1]\n",
      "[3, 1, 0, 1]  : decode  [3, 3, 0]  et code pour vérifier decode [3, 1, 0, 1]\n",
      "[3, 1, 1, 3]  : decode  [4, 0, 2]  et code pour vérifier decode [3, 1, 1, 3]\n",
      "[3, 1, 2, 0]  : decode  [2, 4]  et code pour vérifier decode [3, 1, 2, 0]\n",
      "[3, 1, 3, 2]  : decode  [1, 4, 1]  et code pour vérifier decode [3, 1, 3, 2]\n",
      "[3, 1, 4, 4]  : decode  [2, 1, 3]  et code pour vérifier decode [3, 1, 4, 4]\n",
      "[3, 2, 0, 4]  : decode  [1, 1]  et code pour vérifier decode [3, 2, 0, 4]\n",
      "[3, 2, 1, 1]  : decode  [1, 3, 3]  et code pour vérifier decode [3, 2, 1, 1]\n",
      "[3, 2, 2, 3]  : decode  [2, 0, 0]  et code pour vérifier decode [3, 2, 2, 3]\n",
      "[3, 2, 3, 0]  : decode  [3, 2, 2]  et code pour vérifier decode [3, 2, 3, 0]\n",
      "[3, 2, 4, 2]  : decode  [4, 4, 4]  et code pour vérifier decode [3, 2, 4, 2]\n",
      "[3, 3, 0, 2]  : decode  [2, 4, 2]  et code pour vérifier decode [3, 3, 0, 2]\n",
      "[3, 3, 1, 4]  : decode  [3, 1, 4]  et code pour vérifier decode [3, 3, 1, 4]\n",
      "[3, 3, 2, 1]  : decode  [4, 3, 1]  et code pour vérifier decode [3, 3, 2, 1]\n",
      "[3, 3, 3, 3]  : decode  [3]  et code pour vérifier decode [3, 3, 3, 3]\n",
      "[3, 3, 4, 0]  : decode  [1, 2, 0]  et code pour vérifier decode [3, 3, 4, 0]\n",
      "[3, 4, 0, 0]  : decode  [4, 2, 3]  et code pour vérifier decode [3, 4, 0, 0]\n",
      "[3, 4, 1, 2]  : decode  [4, 0]  et code pour vérifier decode [3, 4, 1, 2]\n",
      "[3, 4, 2, 4]  : decode  [1, 1, 2]  et code pour vérifier decode [3, 4, 2, 4]\n",
      "[3, 4, 3, 1]  : decode  [2, 3, 4]  et code pour vérifier decode [3, 4, 3, 1]\n",
      "[3, 4, 4, 3]  : decode  [3, 0, 1]  et code pour vérifier decode [3, 4, 4, 3]\n",
      "[4, 0, 0, 4]  : decode  [3, 0, 2]  et code pour vérifier decode [4, 0, 0, 4]\n",
      "[4, 0, 1, 1]  : decode  [4, 2, 4]  et code pour vérifier decode [4, 0, 1, 1]\n",
      "[4, 0, 2, 3]  : decode  [4, 1]  et code pour vérifier decode [4, 0, 2, 3]\n",
      "[4, 0, 3, 0]  : decode  [1, 1, 3]  et code pour vérifier decode [4, 0, 3, 0]\n",
      "[4, 0, 4, 2]  : decode  [2, 3, 0]  et code pour vérifier decode [4, 0, 4, 2]\n",
      "[4, 1, 0, 2]  : decode  [3, 3]  et code pour vérifier decode [4, 1, 0, 2]\n",
      "[4, 1, 1, 4]  : decode  [1, 0, 0]  et code pour vérifier decode [4, 1, 1, 4]\n",
      "[4, 1, 2, 1]  : decode  [2, 2, 2]  et code pour vérifier decode [4, 1, 2, 1]\n",
      "[4, 1, 3, 3]  : decode  [3, 4, 4]  et code pour vérifier decode [4, 1, 3, 3]\n",
      "[4, 1, 4, 0]  : decode  [4, 1, 1]  et code pour vérifier decode [4, 1, 4, 0]\n",
      "[4, 2, 0, 0]  : decode  [2, 1, 4]  et code pour vérifier decode [4, 2, 0, 0]\n",
      "[4, 2, 1, 2]  : decode  [3, 3, 1]  et code pour vérifier decode [4, 2, 1, 2]\n",
      "[4, 2, 2, 4]  : decode  [4, 0, 3]  et code pour vérifier decode [4, 2, 2, 4]\n",
      "[4, 2, 3, 1]  : decode  [2, 0]  et code pour vérifier decode [4, 2, 3, 1]\n",
      "[4, 2, 4, 3]  : decode  [1, 4, 2]  et code pour vérifier decode [4, 2, 4, 3]\n",
      "[4, 3, 0, 3]  : decode  [4, 4, 0]  et code pour vérifier decode [4, 3, 0, 3]\n",
      "[4, 3, 1, 0]  : decode  [1, 2]  et code pour vérifier decode [4, 3, 1, 0]\n",
      "[4, 3, 2, 2]  : decode  [1, 3, 4]  et code pour vérifier decode [4, 3, 2, 2]\n",
      "[4, 3, 3, 4]  : decode  [2, 0, 1]  et code pour vérifier decode [4, 3, 3, 4]\n",
      "[4, 3, 4, 1]  : decode  [3, 2, 3]  et code pour vérifier decode [4, 3, 4, 1]\n",
      "[4, 4, 0, 1]  : decode  [1, 2, 1]  et code pour vérifier decode [4, 4, 0, 1]\n",
      "[4, 4, 1, 3]  : decode  [2, 4, 3]  et code pour vérifier decode [4, 4, 1, 3]\n",
      "[4, 4, 2, 0]  : decode  [3, 1, 0]  et code pour vérifier decode [4, 4, 2, 0]\n",
      "[4, 4, 3, 2]  : decode  [4, 3, 2]  et code pour vérifier decode [4, 4, 3, 2]\n",
      "[4, 4, 4, 4]  : decode  [4]  et code pour vérifier decode [4, 4, 4, 4]\n"
     ]
    }
   ],
   "source": [
    "# <=\n",
    "test_syndrome_zero()"
   ]
  },
  {
   "cell_type": "code",
   "execution_count": 254,
   "metadata": {},
   "outputs": [],
   "source": [
    "#Question11"
   ]
  },
  {
   "cell_type": "code",
   "execution_count": 255,
   "metadata": {},
   "outputs": [
    {
     "name": "stdout",
     "output_type": "stream",
     "text": [
      "0\n",
      "13*X^2 + 14*X + 20\n"
     ]
    }
   ],
   "source": [
    "R.<X> = GF(23, name='a')['X']\n",
    "print(X^4%s)\n",
    "print(X^4%R(s))"
   ]
  },
  {
   "cell_type": "code",
   "execution_count": 317,
   "metadata": {},
   "outputs": [],
   "source": [
    "def Clef(q, S, k, n):\n",
    "    #Initialisation\n",
    "    R.<X> = GF(q, name='a')['X']\n",
    "    r = n - k\n",
    "    r0 = R(X^r)\n",
    "    r1=R(S)\n",
    "    u0=1\n",
    "    v0=0\n",
    "    u1=0\n",
    "    v1=1\n",
    "\n",
    "    while(R(r1).degree() >= r/2):\n",
    "        qj=r0//r1\n",
    "        tmpR=r1\n",
    "        r1=r0%r1\n",
    "        r0=tmpR\n",
    "        tmpU=u1\n",
    "        u1=u0-u1*qj\n",
    "        u0=tmpU\n",
    "        tmpV=v1\n",
    "        v1=v0-v1*qj\n",
    "        v0=tmpV\n",
    "    sigma = (v1(0))^(-1) * v1\n",
    "    omega = (v1(0))^(-1) * r1\n",
    "    return (sigma, omega)"
   ]
  },
  {
   "cell_type": "code",
   "execution_count": 319,
   "metadata": {},
   "outputs": [
    {
     "name": "stdout",
     "output_type": "stream",
     "text": [
      "sigma :  17*X^2 + 13*X + 1   |  omega :  17*X + 15\n"
     ]
    }
   ],
   "source": [
    "(sigma, omega) = Clef(q, s, len(msg), len(v_test))\n",
    "print(\"sigma : \", sigma, \"  |  omega : \", omega)"
   ]
  },
  {
   "cell_type": "code",
   "execution_count": 320,
   "metadata": {},
   "outputs": [
    {
     "name": "stdout",
     "output_type": "stream",
     "text": [
      "sigma :  (a^4 + a^2)*X^2 + X + 1   |  omega :  (a^5 + a^3 + a + 1)*X + a^5 + a^4 + a + 1\n"
     ]
    }
   ],
   "source": [
    "(sigma2, omega2) = Clef(q2, s2, len(msg2), len(v_test))\n",
    "print(\"sigma : \", sigma2, \"  |  omega : \", omega2)"
   ]
  },
  {
   "cell_type": "code",
   "execution_count": 321,
   "metadata": {},
   "outputs": [
    {
     "name": "stdout",
     "output_type": "stream",
     "text": [
      "On constate bien l'égalité : 17*X + 15  =  17*X + 15\n"
     ]
    }
   ],
   "source": [
    "# Test de l'équation de la clef, pour le premier cas :\n",
    "R.<X> = GF(23, name='a')['X']\n",
    "r=len(v_test)-len(msg)\n",
    "omega_essai=R(sigma)*R(s)%X^r\n",
    "print(\"On constate bien l'égalité :\",omega, \" = \",omega_essai)"
   ]
  },
  {
   "cell_type": "code",
   "execution_count": 322,
   "metadata": {},
   "outputs": [
    {
     "name": "stdout",
     "output_type": "stream",
     "text": [
      "On constate bien l'égalité : (a^5 + a^3 + a + 1)*X + a^5 + a^4 + a + 1  =  (a^5 + a^3 + a + 1)*X + a^5 + a^4 + a + 1\n"
     ]
    }
   ],
   "source": [
    "# Test de l'équation de la clef, pour le deuxième cas :\n",
    "R.<X> = GF(2^6, name='a')['X']\n",
    "r2=len(v_test)-len(msg2)\n",
    "omega_essai2=R(sigma2)*R(s2)%X^r2\n",
    "print(\"On constate bien l'égalité :\",omega2, \" = \",omega_essai2)"
   ]
  },
  {
   "cell_type": "code",
   "execution_count": 323,
   "metadata": {},
   "outputs": [],
   "source": [
    "#Question 12"
   ]
  },
  {
   "cell_type": "code",
   "execution_count": 331,
   "metadata": {},
   "outputs": [],
   "source": [
    "def Erreur(q, sigma, omega, v, alpha):\n",
    "    if len(alpha) != len(v) :\n",
    "        return False   \n",
    "    R.<X> = GF(q, name='a')['X']\n",
    "    n = len(alpha)\n",
    "    B = []\n",
    "    sigmaprime = [0] * n #initialisation d'une liste de n 0\n",
    "    for index in range(n): #initialisation de B\n",
    "        if sigma(R(alpha[index])^(-1)) == 0:\n",
    "            B.append(index) \n",
    "\n",
    "    for j in B: \n",
    "        alphab = - R(alpha[j])\n",
    "        produit = R.one()\n",
    "        for i in B:\n",
    "            if i != j:\n",
    "                produit = produit * (R.one() - (R(alpha[i]) * R(alpha[j])^(-1)))\n",
    "        sigmaprime[j] = alphab * produit \n",
    "    \n",
    "    eb = [0] * n\n",
    "    \n",
    "    for i in B:\n",
    "        Li = LI(q, alpha, i)\n",
    "        uB =(v[i])^(-1) * Li(R(alpha[i]))^(-1)\n",
    "        eb[i] = (-alpha[i]) * omega(R(alpha[i]^(-1))) * (uB * sigmaprime[i] )^(-1)\n",
    "    return eb"
   ]
  },
  {
   "cell_type": "code",
   "execution_count": 332,
   "metadata": {},
   "outputs": [
    {
     "name": "stdout",
     "output_type": "stream",
     "text": [
      "[0, 0, 0, 0, 20, 0, 0, 22, 0, 0]\n",
      "[0, a^4 + a, a^5 + a^4 + a^3 + a^2, 0, 0, 0, 0, 0, 0, 0]\n"
     ]
    }
   ],
   "source": [
    "erreur = Erreur(q, sigma, omega, v_test, alpha_test)\n",
    "erreur2 = Erreur(q2, sigma2, omega2, v_test, alpha_test2)\n",
    "print(erreur)\n",
    "print(erreur2)"
   ]
  },
  {
   "cell_type": "code",
   "execution_count": 333,
   "metadata": {},
   "outputs": [],
   "source": [
    "def correction_erreur(message,erreur):\n",
    "    if len(message)!=len(erreur):\n",
    "        return False\n",
    "    resultat=[0]*len(message)\n",
    "    for i in range(len(message)):\n",
    "        resultat[i]=message[i]-erreur[i]\n",
    "    return resultat"
   ]
  },
  {
   "cell_type": "code",
   "execution_count": 336,
   "metadata": {},
   "outputs": [
    {
     "name": "stdout",
     "output_type": "stream",
     "text": [
      "[8, 0, 4, 21, 7, 19, 7, 3, 2, 2]\n",
      "[8, 0, 4, 21, 7, 19, 7, 3, 2, 2]\n",
      "[12, 5, 3, 6, 9, 10]\n",
      "[12, 5, 3, 6, 9, 10]\n"
     ]
    }
   ],
   "source": [
    "corrige=correction_erreur(errcode,erreur)\n",
    "print(corrige)\n",
    "print(message_code)\n",
    "print(msg)\n",
    "print(decodeGRS(q,message_code,v_test,alpha_test))"
   ]
  },
  {
   "cell_type": "code",
   "execution_count": 337,
   "metadata": {},
   "outputs": [
    {
     "name": "stdout",
     "output_type": "stream",
     "text": [
      "[a^2 + a + 1, a^4, a^4 + a^3 + a^2, a^5 + a^3 + a + 1, a^3 + a, a^5 + a + 1, 0, a^4 + a^3 + a^2 + a + 1, a^5 + a^4 + a^2 + 1, a^4 + a^2 + a + 1]\n",
      "[a^2 + a + 1, a^4, a^4 + a^3 + a^2, a^5 + a^3 + a + 1, a^3 + a, a^5 + a + 1, 0, a^4 + a^3 + a^2 + a + 1, a^5 + a^4 + a^2 + 1, a^4 + a^2 + a + 1]\n",
      "[a, a^3 + 1, a + 1, 1, a^2, a^3 + a]\n",
      "[a, a^3 + 1, a + 1, 1, a^2, a^3 + a]\n"
     ]
    }
   ],
   "source": [
    "corrige2=correction_erreur(errcode2,erreur2)\n",
    "print(corrige2)\n",
    "print(message_code2)\n",
    "print(msg2)\n",
    "print(decodeGRS(q2,message_code2,v_test,alpha_test2))"
   ]
  },
  {
   "cell_type": "code",
   "execution_count": 174,
   "metadata": {},
   "outputs": [],
   "source": [
    "#Question 13"
   ]
  },
  {
   "cell_type": "code",
   "execution_count": 338,
   "metadata": {},
   "outputs": [],
   "source": [
    "\n",
    "\n",
    "#Code du TP2\n",
    "\n"
   ]
  },
  {
   "cell_type": "code",
   "execution_count": 345,
   "metadata": {},
   "outputs": [],
   "source": [
    "import random\n",
    "S3=BinaryStrings();\n",
    "def numerise(original,N):\n",
    "    i=0\n",
    "    ori_bin=S3.encoding(original);\n",
    "    taille=len(ori_bin);\n",
    "    paquet=int(log(N)/log(2))+1\n",
    "    resultat=[]\n",
    "    \n",
    "    while(i<taille-paquet):\n",
    "        mot_courant=int(str(ori_bin[0:paquet]),2)\n",
    "        ori_bin=ori_bin[paquet:]\n",
    "        resultat.append(mot_courant)\n",
    "        i+=paquet\n",
    "     \n",
    "    ori_bin=str(ori_bin)\n",
    "    taille=len(ori_bin)\n",
    "\n",
    "    for j in range(paquet-taille):\n",
    "        ori_bin = ori_bin + '0'\n",
    "        \n",
    "    resultat.append(int(ori_bin,2))\n",
    "    return resultat"
   ]
  },
  {
   "cell_type": "code",
   "execution_count": 508,
   "metadata": {},
   "outputs": [],
   "source": [
    "def conversion_bin(n,N):\n",
    "    if(N<0):\n",
    "        print(\"erreur\") #exception ?\n",
    "    if (n > 1) or (N>1) :\n",
    "        return( conversion_bin(n // 2,N-1) + str(n %2))\n",
    "    else : \n",
    "        return(str(n %2))\n",
    "    \n",
    "    \n",
    "def alphabetise(list_num,N):\n",
    "    i=0\n",
    "    taille=len(list_num);\n",
    "    resultat=\"\"\n",
    "    paquet=int(log(N)/log(2))+1\n",
    "    while(i<taille):\n",
    "        mot_courant=conversion_bin(list_num[0],paquet)\n",
    "        list_num=list_num[1:]\n",
    "        resultat+=mot_courant\n",
    "        i+=1\n",
    "    mot=S3(resultat);\n",
    "    \n",
    "    return mot.decoding()"
   ]
  },
  {
   "cell_type": "code",
   "execution_count": 509,
   "metadata": {},
   "outputs": [],
   "source": [
    "def cleRSA(r):\n",
    "    m=10^r\n",
    "    rand=random.randrange(10^(int(r/10)),10^(int(r/2)))\n",
    "    p=next_probable_prime(rand)    \n",
    "    rand=random.randrange(int(m/p),int((m*10)/p))\n",
    "    q=next_probable_prime(rand)   \n",
    "    n=p*q\n",
    "    phi=(p-1)*(q-1)\n",
    "    rand=random.randrange(n,n*2)\n",
    "    while(gcd(rand,phi)!=1):\n",
    "        rand=rand+1\n",
    "    e=rand    \n",
    "    bezout= xgcd(e,phi)\n",
    "    d=bezout[1] % phi   \n",
    "    return [n,e,d]\n",
    "\n",
    "[NA,eA,dA]=cleRSA(30)\n",
    "[NB,eB,dB]=cleRSA(30)\n",
    "\n",
    "paquet=int(len(bin(NA)))\n",
    "\n",
    "def crypt(liste_ori,e,n):\n",
    "     return list(map(lambda x: power_mod(x,e,n), liste_ori))\n",
    "\n",
    "def decrypt(liste_ori,d,n):\n",
    "     return list(map(lambda x: power_mod(x,d,n), liste_ori))"
   ]
  },
  {
   "cell_type": "code",
   "execution_count": 510,
   "metadata": {},
   "outputs": [
    {
     "name": "stdout",
     "output_type": "stream",
     "text": [
      "[40, 93, 44, 22, 115, 16, 64, 116, 50, 72, 14, 38, 43, 89, 74, 114, 57, 24, 45, 18, 3, 41, 74, 32, 56, 24, 47, 23, 25, 1, 90, 101, 57, 29, 76, 86, 75, 49, 88, 101, 58, 94, 4, 4, 123, 84, 64, 99, 50, 93, 47, 2, 3, 69, 106, 105, 16, 28, 99, 22, 11, 37, 90, 101, 55, 29, 4, 7, 51, 37, 108, 101, 55, 29, 4, 14, 1, 1, 72, 101, 58, 94, 4, 0]\n",
      "[1967283310840398978481017095363, 5371266539481229055934698913593, 6251753390413169939857442638452, 1057464906029539246196544999674, 3141435610140769662910886393222, 3814383380077511464811484695203, 1855912657488640620792933806998, 4832464229201761347446201993779, 287915002040052436170718597298, 1026345963241837571733365612717, 6211075383342986350020566589961, 6715421067196009814505825581076, 10573439869019186356698977829, 1182489375047274103033219962537, 544824939148896146407538490015, 5070896519206027707272416332653, 4249425871110744205952406662429, 1719778925149694536480064507428, 6290294265994954283460298144404, 6909948066249945092645034830061, 5281310281976022668991303178514, 4979320056179392443195561722366, 544824939148896146407538490015, 3556849624203226105388944575576, 6769709851888242881552643173806, 1719778925149694536480064507428, 4353088169812438438470670055719, 702227227903300900381553490710, 6318086818593060901674212992884, 1, 194392675845997506730815269514, 3262292388545305152382605898615, 4249425871110744205952406662429, 3098893701715683224456450806865, 1172699080001295015946187111439, 2580702021560952805757505315969, 6181376296875530877546040644979, 3300951762255052887884103803988, 5645310672478722881296851153499, 3262292388545305152382605898615, 3054979566471913332680331234968, 553429812165687167764610906606, 5694844277117636723329321117598, 5694844277117636723329321117598, 5878529151316321257870482781559, 807266155972861881681838646551, 1855912657488640620792933806998, 3094091769930581934013093861148, 287915002040052436170718597298, 5371266539481229055934698913593, 4353088169812438438470670055719, 5623686679631546735097433780249, 5281310281976022668991303178514, 6115791271400446333519475451110, 1806326712275687748784187961430, 46624099257455307148411186786, 3814383380077511464811484695203, 4606455127495797440973715698681, 3094091769930581934013093861148, 1057464906029539246196544999674, 5786275035639638139526474202253, 4440862702917583924651416925163, 194392675845997506730815269514, 3262292388545305152382605898615, 5137601058298000526837277067249, 3098893701715683224456450806865, 5694844277117636723329321117598, 492454945516022955834097567241, 3507310760391729316247267216385, 4440862702917583924651416925163, 1407398657497016149787256358697, 3262292388545305152382605898615, 5137601058298000526837277067249, 3098893701715683224456450806865, 5694844277117636723329321117598, 6211075383342986350020566589961, 1, 1, 1026345963241837571733365612717, 3262292388545305152382605898615, 3054979566471913332680331234968, 553429812165687167764610906606, 5694844277117636723329321117598, 0]\n",
      "[40, 93, 44, 22, 115, 16, 64, 116, 50, 72, 14, 38, 43, 89, 74, 114, 57, 24, 45, 18, 3, 41, 74, 32, 56, 24, 47, 23, 25, 1, 90, 101, 57, 29, 76, 86, 75, 49, 88, 101, 58, 94, 4, 4, 123, 84, 64, 99, 50, 93, 47, 2, 3, 69, 106, 105, 16, 28, 99, 22, 11, 37, 90, 101, 55, 29, 4, 7, 51, 37, 108, 101, 55, 29, 4, 14, 1, 1, 72, 101, 58, 94, 4, 0]\n",
      "Quand te reverrai je pays merveilleux Ou ceux qui s\u0019aiment vivent à deux \n"
     ]
    }
   ],
   "source": [
    "#Test des fonctions du TP2\n",
    "\n",
    "message_a_crypter=\"Quand te reverrai je pays merveilleux Ou ceux qui s’aiment vivent à deux \"\n",
    "message_numerise=numerise(message_a_crypter,paquet)\n",
    "print(message_numerise)\n",
    "message_crypt=crypt(message_numerise,dA,NA)\n",
    "print(message_crypt)\n",
    "message_decrypter = decrypt(message_crypt,eA,NA)\n",
    "print(message_decrypter)\n",
    "message_decoder=alphabetise(message_decrypter,paquet)\n",
    "print(message_decoder)"
   ]
  },
  {
   "cell_type": "code",
   "execution_count": 348,
   "metadata": {},
   "outputs": [],
   "source": [
    "\n",
    "\n",
    "# Fin code TP2\n",
    "\n"
   ]
  },
  {
   "cell_type": "code",
   "execution_count": 349,
   "metadata": {},
   "outputs": [],
   "source": [
    "def selection_echantillon(taille,nb):\n",
    "    arret=0\n",
    "    resultat=[]\n",
    "    Fq.<a>=GF(nb, name='a')\n",
    "    for i in range(taille):\n",
    "        j=Fq.list()[random.randrange(nb)]\n",
    "        if j not in resultat :\n",
    "            resultat.append(j)\n",
    "        else:\n",
    "            while j in resultat and arret<100000: #arret pour ne pas avoir une boucle infini...\n",
    "                j=Fq.list()[random.randrange(nb)]\n",
    "            resultat.append(j)\n",
    "    return resultat"
   ]
  },
  {
   "cell_type": "code",
   "execution_count": 350,
   "metadata": {},
   "outputs": [
    {
     "data": {
      "text/plain": [
       "[a^7 + a^6 + a^4 + a + 1, a^5 + 1, a^2]"
      ]
     },
     "execution_count": 350,
     "metadata": {},
     "output_type": "execute_result"
    }
   ],
   "source": [
    "selection_echantillon(3,2^10)"
   ]
  },
  {
   "cell_type": "code",
   "execution_count": 351,
   "metadata": {},
   "outputs": [
    {
     "name": "stdout",
     "output_type": "stream",
     "text": [
      "110110011110010\n"
     ]
    }
   ],
   "source": [
    "a=format(27890,\"b\")\n",
    "print(a)"
   ]
  },
  {
   "cell_type": "code",
   "execution_count": 371,
   "metadata": {},
   "outputs": [],
   "source": [
    "q=2^8\n",
    "Fq.<a>=GF(q, name='a')\n",
    "R.<X>=GF(q, name='a')['X']\n",
    "\n",
    "message_a_crypter=\"Ok\""
   ]
  },
  {
   "cell_type": "code",
   "execution_count": null,
   "metadata": {},
   "outputs": [],
   "source": [
    "#1"
   ]
  },
  {
   "cell_type": "code",
   "execution_count": 372,
   "metadata": {},
   "outputs": [
    {
     "name": "stdout",
     "output_type": "stream",
     "text": [
      "[39, 90, 96]\n"
     ]
    }
   ],
   "source": [
    "#Numérisation\n",
    "message_numerise=numerise(message_a_crypter,paquet)\n",
    "print(message_numerise)"
   ]
  },
  {
   "cell_type": "code",
   "execution_count": 373,
   "metadata": {},
   "outputs": [],
   "source": [
    "#2"
   ]
  },
  {
   "cell_type": "code",
   "execution_count": 374,
   "metadata": {},
   "outputs": [
    {
     "name": "stdout",
     "output_type": "stream",
     "text": [
      "[916785971823584847675136380209, 5563050662663944693594994356900, 4910891851458530159456757498182]\n"
     ]
    }
   ],
   "source": [
    "#Chiffrement\n",
    "message_crypt=crypt(message_numerise,dA,NA)\n",
    "print(message_crypt)"
   ]
  },
  {
   "cell_type": "code",
   "execution_count": null,
   "metadata": {},
   "outputs": [],
   "source": [
    "#3"
   ]
  },
  {
   "cell_type": "code",
   "execution_count": 375,
   "metadata": {},
   "outputs": [],
   "source": [
    "def messagedecouper(message,taille): # découp un message au bon nombre de digit pour passer dans le corps voulu\n",
    "    result=[]\n",
    "    \n",
    "    for x in message:\n",
    "        binaire=format(x,\"b\")\n",
    "        m=int(log(int(binaire))/log(10)) // taille +1 #taille d'un mot\n",
    "        for i in range(m-1):\n",
    "            result.append(binaire[:taille].format())\n",
    "            binaire=binaire[taille:]\n",
    "        \n",
    "        while(len(binaire)<taille):\n",
    "            binaire=binaire+'0'\n",
    "            #print(binaire)\n",
    "        result.append(binaire)\n",
    "    return result"
   ]
  },
  {
   "cell_type": "code",
   "execution_count": 376,
   "metadata": {},
   "outputs": [
    {
     "name": "stdout",
     "output_type": "stream",
     "text": [
      "['10111001', '00100100', '10111001', '01001110', '11011100', '01001010', '11001000', '00111000', '10000000', '00001001', '00111000', '11010011', '00010000', '10001100', '01101110', '01011111', '01001111', '01000010', '10110111', '10100110', '11101001', '01101001', '11001101', '11101011', '01100101', '01001000', '11110111', '11101111', '11001010', '00011110', '10010110', '10001010', '00110111', '01011010', '01110100', '10000000', '10000001', '00000101', '00011000']\n"
     ]
    }
   ],
   "source": [
    "#découpage de ce mot en mot de 8 bits\n",
    "message_decoupe=messagedecouper(message_crypt,8)\n",
    "print(message_decoupe)"
   ]
  },
  {
   "cell_type": "code",
   "execution_count": null,
   "metadata": {},
   "outputs": [],
   "source": [
    "def conv_int(message): #convertion en entier\n",
    "    result=[]\n",
    "    for i in message:\n",
    "        result.append(int(i,2))\n",
    "    return result"
   ]
  },
  {
   "cell_type": "code",
   "execution_count": 377,
   "metadata": {},
   "outputs": [
    {
     "name": "stdout",
     "output_type": "stream",
     "text": [
      "[185, 36, 185, 78, 220, 74, 200, 56, 128, 9, 56, 211, 16, 140, 110, 95, 79, 66, 183, 166, 233, 105, 205, 235, 101, 72, 247, 239, 202, 30, 150, 138, 55, 90, 116, 128, 129, 5, 24]\n"
     ]
    }
   ],
   "source": [
    "#convertion en int\n",
    "message_pour_grs=conv_int(message_decoupe)\n",
    "print(message_pour_grs)"
   ]
  },
  {
   "cell_type": "code",
   "execution_count": null,
   "metadata": {},
   "outputs": [],
   "source": [
    "def conv_corps(message,q):\n",
    "    Fq.<a>=GF(q,name='a')\n",
    "    result=[]\n",
    "    for i in message:\n",
    "        result.append(Fq.list()[i])\n",
    "    return result"
   ]
  },
  {
   "cell_type": "code",
   "execution_count": 382,
   "metadata": {},
   "outputs": [
    {
     "name": "stdout",
     "output_type": "stream",
     "text": [
      "[a^5 + a^4 + a^2 + a + 1, a^5 + a^2 + 1, a^5 + a^4 + a^2 + a + 1, a^6 + a^5 + a^4 + a^3, a^7 + a^5 + a^3 + a^2, a^7 + a^3 + 1, a^4 + a^3 + a^2, a^6 + a^4 + a^3 + a^2 + 1, a^7 + a^2 + 1, a^5 + a^4 + a^3 + a, a^6 + a^4 + a^3 + a^2 + 1, a^7 + a^5 + a^4 + a, a^6 + a^3 + a^2, a^7 + a^2, a^6 + a^5 + a^2 + a + 1, a^7 + a^6 + a^5 + a, a^7 + a^6 + a^5 + a^4, a^6 + a^5 + 1, a^7 + a^6 + a^2, a^5 + a^4 + a^3 + a^2 + a + 1, a^7 + a^6 + a^5 + a^4 + a + 1, a^4 + a^3 + a, a^7 + a^5 + a^2 + a + 1, a^7 + a^6 + a^5 + a^3 + a + 1, a^5 + a, a^6 + a^5 + a^2 + 1, a^7 + a + 1, a^4 + a^2 + a, a^6 + a^5 + a^4, a^6 + a^5, a^6 + a^4 + a^2 + 1, a^5 + 1, a^7 + a^5, a^7 + a^6 + a^4 + a^3 + a^2 + a + 1, a^7 + a^6 + a^5 + a^4 + a^3, a^7 + a^2 + 1, a^4 + a^2 + a + 1, a^5, a^7 + a^3 + a^2 + a + 1]\n"
     ]
    }
   ],
   "source": [
    "#convertion dans le corps\n",
    "message_pour_grs2=conv_corps(message_pour_grs,q)\n",
    "print(message_pour_grs2)"
   ]
  },
  {
   "cell_type": "code",
   "execution_count": 383,
   "metadata": {},
   "outputs": [],
   "source": [
    "#contruction alpha et v\n",
    "k=2* len(message_pour_grs) -1\n",
    "v=[1]*k\n",
    "alpha=selection_echantillon(k,q)"
   ]
  },
  {
   "cell_type": "code",
   "execution_count": 384,
   "metadata": {},
   "outputs": [
    {
     "name": "stdout",
     "output_type": "stream",
     "text": [
      "[a^7 + a^6 + a^5 + a^4, a^7 + a^6 + a^4 + a^3 + a^2 + a + 1, 1, a^7 + a^6 + a^3 + a^2 + a, 0, a^5 + a^4 + a^3 + a + 1, a^6 + a^5 + a^3 + a^2 + a + 1, a^7 + a^5 + a^3 + a^2 + a, a^7 + a^5 + a^3 + a^2 + 1, a^6 + a^5 + a^4 + a^3 + a^2 + a, a^6 + a^4 + a^3, a^7 + a^6 + 1, a^7 + a^6 + a^5 + a^4 + a^3 + a^2, a^7 + a^4 + a^3 + a^2 + a + 1, a^7 + a^6 + a^4 + a + 1, 1, a^3, 1, a^6 + a^2, a^6 + a^4 + a^3 + a + 1, a^6 + a^2 + a + 1, a^4 + 1, a^4 + a^3 + a^2 + a + 1, a^3 + a^2 + a + 1, a^5 + a^4 + a^3, a^7 + a^3 + 1, a^6 + a^5 + a^4 + a^2 + 1, a^7 + a^6 + a^3 + 1, a^7 + a^5 + 1, 0, a^7 + a^5 + a^2 + a, a^6 + a^5 + a^4 + a^3 + a, a^6 + a^3, a^7 + a^4 + a^3 + a^2 + a + 1, a^6 + a^5 + a^4 + a^3 + a^2 + 1, a^6 + a^5 + a^4 + a^3 + a^2 + 1, a^6 + a^2 + 1, a^6 + a^4 + a^3 + a^2 + a, a^2 + 1, a^6 + a^3 + a^2 + 1, a^6 + a, 0, a^7 + a^6 + a^5 + a^4 + a^2 + 1, a^7 + a^6 + a^4 + a^3 + a, a^2 + 1, a^6 + a^3, a^3 + a + 1, a^7 + a^6 + a^4 + a^2, a^7 + a^5 + a^3 + 1, a^3 + a^2 + a, a^7 + a^4 + a^2 + a, a^6 + a^5 + a^4 + a + 1, 0, a^7 + a^6 + a^4 + a + 1, a^7 + a^4 + a^3 + a, 0, a^7 + a^6 + a^4 + a^3 + a^2 + 1, 1, a^7 + a^6 + a^5 + a^4 + a^3 + a + 1, 0, a^7 + a^5 + a^3 + a^2 + a + 1, a^6 + a^5 + a^4 + a + 1, a^6 + a^3 + a, a^7 + a^4 + a^3 + a^2, a^6 + a^4 + a^3 + a + 1, a^7 + a^6 + a^4 + a^3 + a^2, a^6 + a^4 + a, a^4 + a^3 + a, 0, a^6 + a^5 + a^2 + a, a^7 + a^4 + a^2 + a + 1, 1, a^7 + a^6 + a^5 + a^4 + a, a^6 + a^4 + a^3 + 1, a^7 + a^4 + a + 1, a^7 + a^6 + a^4 + a^3 + a^2, a^7 + a^6 + a^5 + a^2]\n"
     ]
    }
   ],
   "source": [
    "#codeGRS\n",
    "message_grs=codeGRS(q,message_pour_grs,v,alpha)\n",
    "print(message_grs)"
   ]
  },
  {
   "cell_type": "code",
   "execution_count": null,
   "metadata": {},
   "outputs": [],
   "source": [
    "#4"
   ]
  },
  {
   "cell_type": "code",
   "execution_count": 386,
   "metadata": {},
   "outputs": [
    {
     "name": "stdout",
     "output_type": "stream",
     "text": [
      "[a^7 + a^6 + a^5 + a^4, a^7 + a^6 + a^4 + a^3 + a^2 + a + 1, 1, a^7 + a^6 + a^3 + a^2 + a, 0, a^5 + a^4 + a^3 + a + 1, a^6 + a^5 + a^3 + a^2 + a + 1, a^7 + a^5 + a^3 + a^2 + a, a^7 + a^5 + a^3 + a^2 + 1, a^6 + a^5 + a^4 + a^3 + a^2 + a, a^6 + a^4 + a^3, a^7 + a^6 + 1, a^7 + a^6 + a^5 + a^4 + a^3 + a^2, a^7 + a^4 + a^3 + a^2 + a + 1, a^7 + a^6 + a^4 + a + 1, 1, a^3, 1, a^6 + a^2, a^6 + a^4 + a^3 + a + 1, a^6 + a^2 + a + 1, a^4 + 1, a^4 + a^3 + a^2 + a + 1, a^3 + a^2 + a + 1, a^5 + a^4 + a^3, a^7 + a^3 + 1, a^6 + a^5 + a^4 + a^2 + 1, a^7 + a^6 + a^3 + 1, a^7 + a^5 + 1, a^7 + a^5 + a^4 + a^3 + 1, a^7 + a^5 + a^2 + a, a^6 + a^5 + a^4 + a^3 + a, a^6 + a^3, a^7 + a^4 + a^3 + a^2 + a + 1, a^6 + a^5 + a^4 + a^3 + a^2 + 1, a^6 + a^5 + a^4 + a^3 + a^2 + 1, a^6 + a^2 + 1, a^6 + a^4 + a^3 + a^2 + a, a^2 + 1, a^6 + a^3 + a^2 + 1, a^6 + a, 0, a^7 + a^6 + a^5 + a^4 + a^2 + 1, a^7 + a^6 + a^4 + a^3 + a, a^2 + 1, a^6 + a^3, a^3 + a + 1, a^7 + a^6 + a^4 + a^2, a^7 + a^5 + a^3 + 1, a^3 + a^2 + a, a^7 + a^4 + a^2 + a, a^6 + a^5 + a^4 + a + 1, 0, a^7 + a^6 + a^4 + a + 1, a^7 + a^4 + a^3 + a, 0, a^7 + a^6 + a^4 + a^3 + a^2 + 1, 1, a^7 + a^6 + a^5 + a^4 + a^3 + a + 1, 0, a^7 + a^5 + a^3 + a^2 + a + 1, a^6 + a^5 + a^4 + a + 1, a^6 + a^3 + a, a^7 + a^4 + a^3 + a^2, a^6 + a^4 + a^3 + a + 1, a^7 + a^6 + a^3 + 1, a^6 + a^4 + a, a^4 + a^3 + a, 0, a^6 + a^5 + a^2 + a, a^7 + a^4 + a^2 + a + 1, 1, a^7 + a^6 + a^5 + a^4 + a, a^6 + a^4 + a^3 + 1, a^7 + a^4 + a + 1, a^7 + a^6 + a^4 + a^3 + a^2, a^7 + a^6 + a^5 + a^2]\n"
     ]
    }
   ],
   "source": [
    "# Transmission d'erreur\n",
    "message_grs_err=errTrans(q, message_grs, 2)\n",
    "print(message_grs_err)"
   ]
  },
  {
   "cell_type": "code",
   "execution_count": null,
   "metadata": {},
   "outputs": [],
   "source": [
    "#5"
   ]
  },
  {
   "cell_type": "code",
   "execution_count": 387,
   "metadata": {},
   "outputs": [
    {
     "name": "stdout",
     "output_type": "stream",
     "text": [
      "(a^7 + a^2 + 1)*X^37 + (a^5 + a^4 + a^3 + a)*X^36 + (a^7 + a^6 + a^2 + a)*X^35 + (a^6 + a^5 + a)*X^34 + (a^6 + a^4)*X^32 + (a^6 + a^5 + a + 1)*X^31 + (a^7 + a^5 + a^3 + 1)*X^30 + (a^6 + a^5 + a^2 + a)*X^29 + (a^6 + a^5 + a^3 + a + 1)*X^28 + (a^6 + a^4 + a^3 + a^2 + a)*X^27 + (a^7 + a^6 + a^5 + a^4 + a^3 + 1)*X^26 + (a^4 + a^2)*X^25 + (a^6 + a^5)*X^24 + (a^3 + 1)*X^23 + (a^7 + a^6 + a^5 + a^3 + 1)*X^22 + (a^6 + a^5 + a^2)*X^21 + (a^6 + a^5 + 1)*X^20 + (a^5 + a^4 + a^3 + a^2 + 1)*X^19 + (a^7 + a^6 + a^3 + a)*X^18 + (a^6 + a^5 + a^4 + a + 1)*X^17 + (a^7 + a^4 + a^3 + a + 1)*X^16 + (a^6 + a^5 + a^4 + a^3 + a^2)*X^15 + (a^7 + a^6 + a^5 + a^4 + a + 1)*X^14 + (a^7 + a^6 + a^3 + a^2 + a + 1)*X^13 + (a^3 + a + 1)*X^12 + (a^7 + a^4 + a^3 + a^2)*X^11 + (a^7 + a^6 + a^3 + a^2 + a + 1)*X^10 + (a^7 + a^5 + a^3 + a^2 + a)*X^9 + (a^5 + a^3 + 1)*X^8 + (a^7 + a^6 + a^4 + a^3 + a^2)*X^7 + (a^7 + a^3 + a^2 + a)*X^6 + a*X^5 + X^4 + (a^5 + a^4 + a^3)*X^3 + (a^6 + a^5 + a^3 + a^2)*X^2 + (a^7 + a^6 + a^2 + a + 1)*X + a^6 + a^5 + a^4 + a^3 + a^2\n"
     ]
    }
   ],
   "source": [
    "#syndrome\n",
    "syndrome=Syndrome(q, message_grs_err, v, alpha, len(message_pour_grs))\n",
    "print(syndrome)"
   ]
  },
  {
   "cell_type": "code",
   "execution_count": 389,
   "metadata": {},
   "outputs": [
    {
     "name": "stdout",
     "output_type": "stream",
     "text": [
      "sigma :  (a^7 + a^2 + 1)*X^2 + (a^7 + a^3 + a + 1)*X + 1   |  omega :  (a^6 + a^5 + a^3)*X + a^6 + a^5 + a^4 + a^3 + a^2\n"
     ]
    }
   ],
   "source": [
    "#clef\n",
    "(sigma, omega) = Clef(q, syndrome, len(message_pour_grs), k)\n",
    "print(\"sigma : \", sigma, \"  |  omega : \", omega)"
   ]
  },
  {
   "cell_type": "code",
   "execution_count": 390,
   "metadata": {},
   "outputs": [
    {
     "name": "stdout",
     "output_type": "stream",
     "text": [
      "[0, 0, 0, 0, 0, 0, 0, 0, 0, 0, 0, 0, 0, 0, 0, 0, 0, 0, 0, 0, 0, 0, 0, 0, 0, 0, 0, 0, 0, a^7 + a^5 + a^4 + a^3 + 1, 0, 0, 0, 0, 0, 0, 0, 0, 0, 0, 0, 0, 0, 0, 0, 0, 0, 0, 0, 0, 0, 0, 0, 0, 0, 0, 0, 0, 0, 0, 0, 0, 0, 0, 0, a^4 + a^2 + 1, 0, 0, 0, 0, 0, 0, 0, 0, 0, 0, 0]\n"
     ]
    }
   ],
   "source": [
    "# calcul erreur\n",
    "erreur=Erreur(q, sigma, omega, v, alpha)\n",
    "print(erreur)"
   ]
  },
  {
   "cell_type": "code",
   "execution_count": 391,
   "metadata": {},
   "outputs": [
    {
     "name": "stdout",
     "output_type": "stream",
     "text": [
      "correction :  [a^7 + a^6 + a^5 + a^4, a^7 + a^6 + a^4 + a^3 + a^2 + a + 1, 1, a^7 + a^6 + a^3 + a^2 + a, 0, a^5 + a^4 + a^3 + a + 1, a^6 + a^5 + a^3 + a^2 + a + 1, a^7 + a^5 + a^3 + a^2 + a, a^7 + a^5 + a^3 + a^2 + 1, a^6 + a^5 + a^4 + a^3 + a^2 + a, a^6 + a^4 + a^3, a^7 + a^6 + 1, a^7 + a^6 + a^5 + a^4 + a^3 + a^2, a^7 + a^4 + a^3 + a^2 + a + 1, a^7 + a^6 + a^4 + a + 1, 1, a^3, 1, a^6 + a^2, a^6 + a^4 + a^3 + a + 1, a^6 + a^2 + a + 1, a^4 + 1, a^4 + a^3 + a^2 + a + 1, a^3 + a^2 + a + 1, a^5 + a^4 + a^3, a^7 + a^3 + 1, a^6 + a^5 + a^4 + a^2 + 1, a^7 + a^6 + a^3 + 1, a^7 + a^5 + 1, 0, a^7 + a^5 + a^2 + a, a^6 + a^5 + a^4 + a^3 + a, a^6 + a^3, a^7 + a^4 + a^3 + a^2 + a + 1, a^6 + a^5 + a^4 + a^3 + a^2 + 1, a^6 + a^5 + a^4 + a^3 + a^2 + 1, a^6 + a^2 + 1, a^6 + a^4 + a^3 + a^2 + a, a^2 + 1, a^6 + a^3 + a^2 + 1, a^6 + a, 0, a^7 + a^6 + a^5 + a^4 + a^2 + 1, a^7 + a^6 + a^4 + a^3 + a, a^2 + 1, a^6 + a^3, a^3 + a + 1, a^7 + a^6 + a^4 + a^2, a^7 + a^5 + a^3 + 1, a^3 + a^2 + a, a^7 + a^4 + a^2 + a, a^6 + a^5 + a^4 + a + 1, 0, a^7 + a^6 + a^4 + a + 1, a^7 + a^4 + a^3 + a, 0, a^7 + a^6 + a^4 + a^3 + a^2 + 1, 1, a^7 + a^6 + a^5 + a^4 + a^3 + a + 1, 0, a^7 + a^5 + a^3 + a^2 + a + 1, a^6 + a^5 + a^4 + a + 1, a^6 + a^3 + a, a^7 + a^4 + a^3 + a^2, a^6 + a^4 + a^3 + a + 1, a^7 + a^6 + a^4 + a^3 + a^2, a^6 + a^4 + a, a^4 + a^3 + a, 0, a^6 + a^5 + a^2 + a, a^7 + a^4 + a^2 + a + 1, 1, a^7 + a^6 + a^5 + a^4 + a, a^6 + a^4 + a^3 + 1, a^7 + a^4 + a + 1, a^7 + a^6 + a^4 + a^3 + a^2, a^7 + a^6 + a^5 + a^2]\n"
     ]
    }
   ],
   "source": [
    "#correction de l'erreur\n",
    "message_corrige=correction_erreur(message_grs_err,erreur)\n",
    "print(\"correction : \", message_corrige)"
   ]
  },
  {
   "cell_type": "code",
   "execution_count": 392,
   "metadata": {},
   "outputs": [
    {
     "name": "stdout",
     "output_type": "stream",
     "text": [
      "Message original :  [a^7 + a^6 + a^5 + a^4, a^7 + a^6 + a^4 + a^3 + a^2 + a + 1, 1, a^7 + a^6 + a^3 + a^2 + a, 0, a^5 + a^4 + a^3 + a + 1, a^6 + a^5 + a^3 + a^2 + a + 1, a^7 + a^5 + a^3 + a^2 + a, a^7 + a^5 + a^3 + a^2 + 1, a^6 + a^5 + a^4 + a^3 + a^2 + a, a^6 + a^4 + a^3, a^7 + a^6 + 1, a^7 + a^6 + a^5 + a^4 + a^3 + a^2, a^7 + a^4 + a^3 + a^2 + a + 1, a^7 + a^6 + a^4 + a + 1, 1, a^3, 1, a^6 + a^2, a^6 + a^4 + a^3 + a + 1, a^6 + a^2 + a + 1, a^4 + 1, a^4 + a^3 + a^2 + a + 1, a^3 + a^2 + a + 1, a^5 + a^4 + a^3, a^7 + a^3 + 1, a^6 + a^5 + a^4 + a^2 + 1, a^7 + a^6 + a^3 + 1, a^7 + a^5 + 1, 0, a^7 + a^5 + a^2 + a, a^6 + a^5 + a^4 + a^3 + a, a^6 + a^3, a^7 + a^4 + a^3 + a^2 + a + 1, a^6 + a^5 + a^4 + a^3 + a^2 + 1, a^6 + a^5 + a^4 + a^3 + a^2 + 1, a^6 + a^2 + 1, a^6 + a^4 + a^3 + a^2 + a, a^2 + 1, a^6 + a^3 + a^2 + 1, a^6 + a, 0, a^7 + a^6 + a^5 + a^4 + a^2 + 1, a^7 + a^6 + a^4 + a^3 + a, a^2 + 1, a^6 + a^3, a^3 + a + 1, a^7 + a^6 + a^4 + a^2, a^7 + a^5 + a^3 + 1, a^3 + a^2 + a, a^7 + a^4 + a^2 + a, a^6 + a^5 + a^4 + a + 1, 0, a^7 + a^6 + a^4 + a + 1, a^7 + a^4 + a^3 + a, 0, a^7 + a^6 + a^4 + a^3 + a^2 + 1, 1, a^7 + a^6 + a^5 + a^4 + a^3 + a + 1, 0, a^7 + a^5 + a^3 + a^2 + a + 1, a^6 + a^5 + a^4 + a + 1, a^6 + a^3 + a, a^7 + a^4 + a^3 + a^2, a^6 + a^4 + a^3 + a + 1, a^7 + a^6 + a^4 + a^3 + a^2, a^6 + a^4 + a, a^4 + a^3 + a, 0, a^6 + a^5 + a^2 + a, a^7 + a^4 + a^2 + a + 1, 1, a^7 + a^6 + a^5 + a^4 + a, a^6 + a^4 + a^3 + 1, a^7 + a^4 + a + 1, a^7 + a^6 + a^4 + a^3 + a^2, a^7 + a^6 + a^5 + a^2]\n",
      "correction :  [a^7 + a^6 + a^5 + a^4, a^7 + a^6 + a^4 + a^3 + a^2 + a + 1, 1, a^7 + a^6 + a^3 + a^2 + a, 0, a^5 + a^4 + a^3 + a + 1, a^6 + a^5 + a^3 + a^2 + a + 1, a^7 + a^5 + a^3 + a^2 + a, a^7 + a^5 + a^3 + a^2 + 1, a^6 + a^5 + a^4 + a^3 + a^2 + a, a^6 + a^4 + a^3, a^7 + a^6 + 1, a^7 + a^6 + a^5 + a^4 + a^3 + a^2, a^7 + a^4 + a^3 + a^2 + a + 1, a^7 + a^6 + a^4 + a + 1, 1, a^3, 1, a^6 + a^2, a^6 + a^4 + a^3 + a + 1, a^6 + a^2 + a + 1, a^4 + 1, a^4 + a^3 + a^2 + a + 1, a^3 + a^2 + a + 1, a^5 + a^4 + a^3, a^7 + a^3 + 1, a^6 + a^5 + a^4 + a^2 + 1, a^7 + a^6 + a^3 + 1, a^7 + a^5 + 1, 0, a^7 + a^5 + a^2 + a, a^6 + a^5 + a^4 + a^3 + a, a^6 + a^3, a^7 + a^4 + a^3 + a^2 + a + 1, a^6 + a^5 + a^4 + a^3 + a^2 + 1, a^6 + a^5 + a^4 + a^3 + a^2 + 1, a^6 + a^2 + 1, a^6 + a^4 + a^3 + a^2 + a, a^2 + 1, a^6 + a^3 + a^2 + 1, a^6 + a, 0, a^7 + a^6 + a^5 + a^4 + a^2 + 1, a^7 + a^6 + a^4 + a^3 + a, a^2 + 1, a^6 + a^3, a^3 + a + 1, a^7 + a^6 + a^4 + a^2, a^7 + a^5 + a^3 + 1, a^3 + a^2 + a, a^7 + a^4 + a^2 + a, a^6 + a^5 + a^4 + a + 1, 0, a^7 + a^6 + a^4 + a + 1, a^7 + a^4 + a^3 + a, 0, a^7 + a^6 + a^4 + a^3 + a^2 + 1, 1, a^7 + a^6 + a^5 + a^4 + a^3 + a + 1, 0, a^7 + a^5 + a^3 + a^2 + a + 1, a^6 + a^5 + a^4 + a + 1, a^6 + a^3 + a, a^7 + a^4 + a^3 + a^2, a^6 + a^4 + a^3 + a + 1, a^7 + a^6 + a^4 + a^3 + a^2, a^6 + a^4 + a, a^4 + a^3 + a, 0, a^6 + a^5 + a^2 + a, a^7 + a^4 + a^2 + a + 1, 1, a^7 + a^6 + a^5 + a^4 + a, a^6 + a^4 + a^3 + 1, a^7 + a^4 + a + 1, a^7 + a^6 + a^4 + a^3 + a^2, a^7 + a^6 + a^5 + a^2]\n"
     ]
    }
   ],
   "source": [
    "#Comparaison\n",
    "print(\"Message original : \", message_grs)\n",
    "print(\"correction : \", message_corrige)"
   ]
  },
  {
   "cell_type": "code",
   "execution_count": 396,
   "metadata": {},
   "outputs": [
    {
     "name": "stdout",
     "output_type": "stream",
     "text": [
      "decode :  [a^5 + a^4 + a^2 + a + 1, a^5 + a^2 + 1, a^5 + a^4 + a^2 + a + 1, a^6 + a^5 + a^4 + a^3, a^7 + a^5 + a^3 + a^2, a^7 + a^3 + 1, a^4 + a^3 + a^2, a^6 + a^4 + a^3 + a^2 + 1, a^7 + a^2 + 1, a^5 + a^4 + a^3 + a, a^6 + a^4 + a^3 + a^2 + 1, a^7 + a^5 + a^4 + a, a^6 + a^3 + a^2, a^7 + a^2, a^6 + a^5 + a^2 + a + 1, a^7 + a^6 + a^5 + a, a^7 + a^6 + a^5 + a^4, a^6 + a^5 + 1, a^7 + a^6 + a^2, a^5 + a^4 + a^3 + a^2 + a + 1, a^7 + a^6 + a^5 + a^4 + a + 1, a^4 + a^3 + a, a^7 + a^5 + a^2 + a + 1, a^7 + a^6 + a^5 + a^3 + a + 1, a^5 + a, a^6 + a^5 + a^2 + 1, a^7 + a + 1, a^4 + a^2 + a, a^6 + a^5 + a^4, a^6 + a^5, a^6 + a^4 + a^2 + 1, a^5 + 1, a^7 + a^5, a^7 + a^6 + a^4 + a^3 + a^2 + a + 1, a^7 + a^6 + a^5 + a^4 + a^3, a^7 + a^2 + 1, a^4 + a^2 + a + 1, a^5, a^7 + a^3 + a^2 + a + 1]\n"
     ]
    }
   ],
   "source": [
    "decode=decodeGRS(q, message_corrige, v, alpha)\n",
    "print(\"decode : \", decode)"
   ]
  },
  {
   "cell_type": "code",
   "execution_count": 409,
   "metadata": {},
   "outputs": [],
   "source": [
    "def conv_int2(message,q):\n",
    "    Fq.<a>=GF(q, name='a')\n",
    "    result=[]\n",
    "    for i in message:\n",
    "        result.append(Fq.list().index((i)))\n",
    "    return result"
   ]
  },
  {
   "cell_type": "code",
   "execution_count": 412,
   "metadata": {},
   "outputs": [
    {
     "name": "stdout",
     "output_type": "stream",
     "text": [
      "[185, 36, 185, 78, 220, 74, 200, 56, 128, 9, 56, 211, 16, 140, 110, 95, 79, 66, 183, 166, 233, 105, 205, 235, 101, 72, 247, 239, 202, 30, 150, 138, 55, 90, 116, 128, 129, 5, 24]\n"
     ]
    }
   ],
   "source": [
    "#transforme en int\n",
    "transf =  conv_int2(decode,q)\n",
    "print(transf)"
   ]
  },
  {
   "cell_type": "code",
   "execution_count": 413,
   "metadata": {},
   "outputs": [],
   "source": [
    "def conv_bin(message):\n",
    "    result=[]\n",
    "    for i in message:\n",
    "        result.append(format(i,\"b\"))\n",
    "    return result"
   ]
  },
  {
   "cell_type": "code",
   "execution_count": 414,
   "metadata": {},
   "outputs": [
    {
     "name": "stdout",
     "output_type": "stream",
     "text": [
      "['10111001', '100100', '10111001', '1001110', '11011100', '1001010', '11001000', '111000', '10000000', '1001', '111000', '11010011', '10000', '10001100', '1101110', '1011111', '1001111', '1000010', '10110111', '10100110', '11101001', '1101001', '11001101', '11101011', '1100101', '1001000', '11110111', '11101111', '11001010', '11110', '10010110', '10001010', '110111', '1011010', '1110100', '10000000', '10000001', '101', '11000']\n"
     ]
    }
   ],
   "source": [
    "#transforme en bin\n",
    "transfb =  conv_bin(transf)\n",
    "print(transfb)"
   ]
  },
  {
   "cell_type": "code",
   "execution_count": 469,
   "metadata": {},
   "outputs": [],
   "source": [
    "def messageregrouper(message,taillem, taille): #taillem = taille dans mot et taille est la taille à avoir \n",
    "    Fq.<a>=GF(2^taillem, name='a')\n",
    "    result=[]\n",
    "    m= taille//taillem + 1\n",
    "\n",
    "    par=0\n",
    "    while(par<len(message)):\n",
    "        mot_courrant=\"\"\n",
    "        i=0\n",
    "        while(i<m-1 and par<len(message)):\n",
    "            while(len(message[par])<8):\n",
    "                message[par]='0'+message[par]\n",
    "            mot_courrant=mot_courrant+message[par]\n",
    "            par=par+1\n",
    "            i=i+1\n",
    "        j=0\n",
    "        while(len(mot_courrant)<taille):\n",
    "\n",
    "            if(par<len(message)):\n",
    "                mot_courrant=mot_courrant+(message[par])[j]\n",
    "            else:\n",
    "                mot_courrant=mot_courrant+'0'\n",
    "            j=j+1\n",
    "        par=par+1\n",
    "        result.append(mot_courrant)\n",
    "    return result"
   ]
  },
  {
   "cell_type": "code",
   "execution_count": 545,
   "metadata": {},
   "outputs": [
    {
     "name": "stdout",
     "output_type": "stream",
     "text": [
      "['101110010010010010111001010011101101110001001010110010000011100010000000000010010011100011010011000100001', '011011100101111101001111010000101011011110100110111010010110100111001101111010110110010101001000111101111', '110010100001111010010110100010100011011101011010011101001000000010000001000001010001100000000000000000000']\n"
     ]
    }
   ],
   "source": [
    "#recoller mon message \n",
    "message_regroupe=messageregrouper(transfb,8,paquet)\n",
    "print(message_regroupe)"
   ]
  },
  {
   "cell_type": "code",
   "execution_count": 551,
   "metadata": {},
   "outputs": [],
   "source": [
    "def conv_dec(message):\n",
    "    result=[]\n",
    "    for i in message:\n",
    "        result.append(int(i,2))\n",
    "    return result"
   ]
  },
  {
   "cell_type": "code",
   "execution_count": 552,
   "metadata": {},
   "outputs": [
    {
     "name": "stdout",
     "output_type": "stream",
     "text": [
      "[2206967802927630515694828634048, 194392675845997506730815269514, 870991800952386197575338960146]\n"
     ]
    }
   ],
   "source": [
    "#convertion de string à entier\n",
    "message_decimal=conv_dec(message_regroupe)\n",
    "#len(str(101110010010010010111001010011101101110001001010110010000011100010000000000010010011100011010011000100001)) = 105 = paq\n",
    "print(message_decimal)"
   ]
  },
  {
   "cell_type": "code",
   "execution_count": 553,
   "metadata": {},
   "outputs": [],
   "source": [
    "#6"
   ]
  },
  {
   "cell_type": "code",
   "execution_count": 554,
   "metadata": {},
   "outputs": [
    {
     "name": "stdout",
     "output_type": "stream",
     "text": [
      "[39, 90, 96]\n"
     ]
    }
   ],
   "source": [
    "#decrypte\n",
    "message_decrypter = decrypt(message_decimal,eA,NA)\n",
    "print(message_decrypter)"
   ]
  },
  {
   "cell_type": "code",
   "execution_count": 539,
   "metadata": {},
   "outputs": [],
   "source": [
    "#7"
   ]
  },
  {
   "cell_type": "code",
   "execution_count": 557,
   "metadata": {},
   "outputs": [
    {
     "name": "stdout",
     "output_type": "stream",
     "text": [
      "Ok\n"
     ]
    }
   ],
   "source": [
    "#alphabetise\n",
    "message_decoder=alphabetise(message_decrypter,paquet)\n",
    "print(message_decoder)"
   ]
  },
  {
   "cell_type": "code",
   "execution_count": null,
   "metadata": {},
   "outputs": [],
   "source": []
  }
 ],
 "metadata": {
  "kernelspec": {
   "display_name": "SageMath 9.3",
   "language": "sage",
   "name": "sagemath"
  },
  "language_info": {
   "codemirror_mode": {
    "name": "ipython",
    "version": 3
   },
   "file_extension": ".py",
   "mimetype": "text/x-python",
   "name": "python",
   "nbconvert_exporter": "python",
   "pygments_lexer": "ipython3",
   "version": "3.7.10"
  }
 },
 "nbformat": 4,
 "nbformat_minor": 4
}

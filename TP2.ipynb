{
 "cells": [
  {
   "cell_type": "code",
   "execution_count": 1,
   "metadata": {},
   "outputs": [],
   "source": [
    "#Préliminaire"
   ]
  },
  {
   "cell_type": "code",
   "execution_count": 2,
   "metadata": {},
   "outputs": [
    {
     "data": {
      "text/plain": [
       "(2, 0)"
      ]
     },
     "execution_count": 2,
     "metadata": {},
     "output_type": "execute_result"
    }
   ],
   "source": [
    "divmod(10,5)\n"
   ]
  },
  {
   "cell_type": "code",
   "execution_count": 3,
   "metadata": {},
   "outputs": [
    {
     "data": {
      "text/plain": [
       "(3, 0)"
      ]
     },
     "execution_count": 3,
     "metadata": {},
     "output_type": "execute_result"
    }
   ],
   "source": [
    "divmod(15,5)"
   ]
  },
  {
   "cell_type": "code",
   "execution_count": 4,
   "metadata": {},
   "outputs": [
    {
     "data": {
      "text/plain": [
       "(16, 2)"
      ]
     },
     "execution_count": 4,
     "metadata": {},
     "output_type": "execute_result"
    }
   ],
   "source": [
    "divmod(50,3)"
   ]
  },
  {
   "cell_type": "code",
   "execution_count": 5,
   "metadata": {},
   "outputs": [
    {
     "data": {
      "text/plain": [
       "(288, 6)"
      ]
     },
     "execution_count": 5,
     "metadata": {},
     "output_type": "execute_result"
    }
   ],
   "source": [
    "divmod(2022,7)"
   ]
  },
  {
   "cell_type": "code",
   "execution_count": 6,
   "metadata": {},
   "outputs": [
    {
     "data": {
      "text/plain": [
       "1"
      ]
     },
     "execution_count": 6,
     "metadata": {},
     "output_type": "execute_result"
    }
   ],
   "source": [
    "gcd(5,62) #premier entre eux"
   ]
  },
  {
   "cell_type": "code",
   "execution_count": 7,
   "metadata": {},
   "outputs": [
    {
     "data": {
      "text/plain": [
       "5"
      ]
     },
     "execution_count": 7,
     "metadata": {},
     "output_type": "execute_result"
    }
   ],
   "source": [
    "gcd(5,15) # le plus grand diviseur est 5"
   ]
  },
  {
   "cell_type": "code",
   "execution_count": 8,
   "metadata": {},
   "outputs": [
    {
     "data": {
      "text/plain": [
       "(1, 7, -2)"
      ]
     },
     "execution_count": 8,
     "metadata": {},
     "output_type": "execute_result"
    }
   ],
   "source": [
    "xgcd(5,17) #premier entre eux et 5*7 + -2 *17 = 1  avec les coefficients de Bézout"
   ]
  },
  {
   "cell_type": "code",
   "execution_count": 9,
   "metadata": {},
   "outputs": [
    {
     "data": {
      "text/plain": [
       "(6, 3, -101)"
      ]
     },
     "execution_count": 9,
     "metadata": {},
     "output_type": "execute_result"
    }
   ],
   "source": [
    "xgcd(2022,60)"
   ]
  },
  {
   "cell_type": "code",
   "execution_count": 10,
   "metadata": {},
   "outputs": [
    {
     "data": {
      "text/plain": [
       "True"
      ]
     },
     "execution_count": 10,
     "metadata": {},
     "output_type": "execute_result"
    }
   ],
   "source": [
    "is_prime(7)"
   ]
  },
  {
   "cell_type": "code",
   "execution_count": 11,
   "metadata": {},
   "outputs": [
    {
     "data": {
      "text/plain": [
       "True"
      ]
     },
     "execution_count": 11,
     "metadata": {},
     "output_type": "execute_result"
    }
   ],
   "source": [
    "is_prime(49993)"
   ]
  },
  {
   "cell_type": "code",
   "execution_count": 12,
   "metadata": {},
   "outputs": [
    {
     "data": {
      "text/plain": [
       "[11, 13, 17, 19, 23, 29, 31, 37, 41, 43, 47]"
      ]
     },
     "execution_count": 12,
     "metadata": {},
     "output_type": "execute_result"
    }
   ],
   "source": [
    "prime_range(10,50)"
   ]
  },
  {
   "cell_type": "code",
   "execution_count": 13,
   "metadata": {},
   "outputs": [
    {
     "data": {
      "text/plain": [
       "11"
      ]
     },
     "execution_count": 13,
     "metadata": {},
     "output_type": "execute_result"
    }
   ],
   "source": [
    "next_prime(7)"
   ]
  },
  {
   "cell_type": "code",
   "execution_count": 14,
   "metadata": {},
   "outputs": [
    {
     "data": {
      "text/plain": [
       "3 * 7 * 1933"
      ]
     },
     "execution_count": 14,
     "metadata": {},
     "output_type": "execute_result"
    }
   ],
   "source": [
    "factor(40593)"
   ]
  },
  {
   "cell_type": "code",
   "execution_count": 15,
   "metadata": {},
   "outputs": [
    {
     "data": {
      "text/plain": [
       "3"
      ]
     },
     "execution_count": 15,
     "metadata": {},
     "output_type": "execute_result"
    }
   ],
   "source": [
    "prime_pi(5)#2,3,5"
   ]
  },
  {
   "cell_type": "code",
   "execution_count": 16,
   "metadata": {},
   "outputs": [
    {
     "data": {
      "text/plain": [
       "5"
      ]
     },
     "execution_count": 16,
     "metadata": {},
     "output_type": "execute_result"
    }
   ],
   "source": [
    "prime_pi(11)#2,3,5,7,11"
   ]
  },
  {
   "cell_type": "code",
   "execution_count": 17,
   "metadata": {},
   "outputs": [],
   "source": [
    "#Nombre Premier"
   ]
  },
  {
   "cell_type": "code",
   "execution_count": 18,
   "metadata": {},
   "outputs": [],
   "source": [
    "#I "
   ]
  },
  {
   "cell_type": "code",
   "execution_count": 19,
   "metadata": {},
   "outputs": [
    {
     "data": {
      "text/plain": [
       "4118054813"
      ]
     },
     "execution_count": 19,
     "metadata": {},
     "output_type": "execute_result"
    }
   ],
   "source": [
    "prime_pi(10^11) #instantenement jusque 10^11\n",
    "#prime_pi(10^12) #2 sec\n",
    "#prime_pi(10^13) #20sec\n",
    "#prime_pi(10^14) #plus qu'une minute"
   ]
  },
  {
   "cell_type": "code",
   "execution_count": 20,
   "metadata": {},
   "outputs": [
    {
     "data": {
      "image/png": "[encoded data removed]",
      "text/plain": [
       "Graphics object consisting of 2 graphics primitives"
      ]
     },
     "execution_count": 20,
     "metadata": {},
     "output_type": "execute_result"
    }
   ],
   "source": [
    "x=var('x')\n",
    "plot([prime_pi(x), x/ln(x)] ,2,10^2, legend_label='automatic') "
   ]
  },
  {
   "cell_type": "code",
   "execution_count": 21,
   "metadata": {},
   "outputs": [
    {
     "data": {
      "image/png": "[encoded data removed]",
      "text/plain": [
       "Graphics object consisting of 2 graphics primitives"
      ]
     },
     "execution_count": 21,
     "metadata": {},
     "output_type": "execute_result"
    }
   ],
   "source": [
    "x=var('x')\n",
    "plot([prime_pi(x), x/ln(x)] ,2,10^3, legend_label='automatic') "
   ]
  },
  {
   "cell_type": "code",
   "execution_count": 22,
   "metadata": {},
   "outputs": [
    {
     "data": {
      "image/png": "[encoded data removed]",
      "text/plain": [
       "Graphics object consisting of 2 graphics primitives"
      ]
     },
     "execution_count": 22,
     "metadata": {},
     "output_type": "execute_result"
    }
   ],
   "source": [
    "x=var('x')\n",
    "plot([prime_pi(x), x/ln(x)] ,2,10^10, legend_label='automatic')\n"
   ]
  },
  {
   "cell_type": "code",
   "execution_count": 23,
   "metadata": {},
   "outputs": [
    {
     "data": {
      "image/png": "[encoded data removed]",
      "text/plain": [
       "Graphics object consisting of 1 graphics primitive"
      ]
     },
     "execution_count": 23,
     "metadata": {},
     "output_type": "execute_result"
    }
   ],
   "source": [
    "x=var('x')\n",
    "plot(prime_pi(x) * ln(x)/x ,2,10^10, legend_label='prime_pi(x) * ln(x)/x')"
   ]
  },
  {
   "cell_type": "code",
   "execution_count": 24,
   "metadata": {},
   "outputs": [
    {
     "data": {
      "image/png": "[encoded data removed]",
      "text/plain": [
       "Graphics object consisting of 2 graphics primitives"
      ]
     },
     "execution_count": 24,
     "metadata": {},
     "output_type": "execute_result"
    }
   ],
   "source": [
    "x=var('x')\n",
    "plot([prime_pi(x), Li(x)] ,3,10^2, legend_label='automatic') # integrate(1/ln(t),t,2,x)"
   ]
  },
  {
   "cell_type": "code",
   "execution_count": 25,
   "metadata": {},
   "outputs": [
    {
     "data": {
      "image/png": "[encoded data removed]",
      "text/plain": [
       "Graphics object consisting of 2 graphics primitives"
      ]
     },
     "execution_count": 25,
     "metadata": {},
     "output_type": "execute_result"
    }
   ],
   "source": [
    "x=var('x')\n",
    "plot([prime_pi(x), Li(x)] ,3,10^5, legend_label='automatic') # integrate(1/ln(t),t,2,x)"
   ]
  },
  {
   "cell_type": "code",
   "execution_count": 26,
   "metadata": {},
   "outputs": [
    {
     "data": {
      "image/png": "[encoded data removed]",
      "text/plain": [
       "Graphics object consisting of 2 graphics primitives"
      ]
     },
     "execution_count": 26,
     "metadata": {},
     "output_type": "execute_result"
    }
   ],
   "source": [
    "x=var('x')\n",
    "plot([prime_pi(x), Li(x)] ,3,10^10, legend_label='automatic') # integrate(1/ln(t),t,2,x)"
   ]
  },
  {
   "cell_type": "code",
   "execution_count": 27,
   "metadata": {},
   "outputs": [
    {
     "data": {
      "image/png": "[encoded data removed]",
      "text/plain": [
       "Graphics object consisting of 1 graphics primitive"
      ]
     },
     "execution_count": 27,
     "metadata": {},
     "output_type": "execute_result"
    }
   ],
   "source": [
    "x=var('x')\n",
    "plot(prime_pi(x)/Li(x) ,10,10^10)"
   ]
  },
  {
   "cell_type": "code",
   "execution_count": 28,
   "metadata": {},
   "outputs": [],
   "source": [
    "a=N(prime_pi(10^10)/ Li(10^10))"
   ]
  },
  {
   "cell_type": "code",
   "execution_count": 29,
   "metadata": {},
   "outputs": [],
   "source": [
    "b=N(prime_pi(10^10) * ln(10^10)/10^10)"
   ]
  },
  {
   "cell_type": "code",
   "execution_count": 30,
   "metadata": {},
   "outputs": [
    {
     "data": {
      "text/plain": [
       "0.000681793909795836"
      ]
     },
     "execution_count": 30,
     "metadata": {},
     "output_type": "execute_result"
    }
   ],
   "source": [
    "(1-a)*100 # erreur avec Li"
   ]
  },
  {
   "cell_type": "code",
   "execution_count": 31,
   "metadata": {},
   "outputs": [
    {
     "data": {
      "text/plain": [
       "4.77971283581089"
      ]
     },
     "execution_count": 31,
     "metadata": {},
     "output_type": "execute_result"
    }
   ],
   "source": [
    "(b-1)*100 # errur avec ln"
   ]
  },
  {
   "cell_type": "code",
   "execution_count": 32,
   "metadata": {},
   "outputs": [
    {
     "data": {
      "text/plain": [
       "1.04779712835811"
      ]
     },
     "execution_count": 32,
     "metadata": {},
     "output_type": "execute_result"
    }
   ],
   "source": [
    "b"
   ]
  },
  {
   "cell_type": "code",
   "execution_count": 33,
   "metadata": {},
   "outputs": [],
   "source": [
    "#II"
   ]
  },
  {
   "cell_type": "code",
   "execution_count": 2,
   "metadata": {},
   "outputs": [],
   "source": [
    "def Fermat_a_tord():\n",
    "    n=0\n",
    "    while(is_prime((2^(2^n))+1)):\n",
    "        n=n+1\n",
    "    return [2^(2^n),n]"
   ]
  },
  {
   "cell_type": "code",
   "execution_count": 3,
   "metadata": {},
   "outputs": [
    {
     "data": {
      "text/plain": [
       "[4294967296, 5]"
      ]
     },
     "execution_count": 3,
     "metadata": {},
     "output_type": "execute_result"
    }
   ],
   "source": [
    "Fermat_a_tord() # dur ..."
   ]
  },
  {
   "cell_type": "code",
   "execution_count": 36,
   "metadata": {},
   "outputs": [],
   "source": [
    "#III"
   ]
  },
  {
   "cell_type": "code",
   "execution_count": 37,
   "metadata": {},
   "outputs": [],
   "source": [
    "p_257=prime_range(257)"
   ]
  },
  {
   "cell_type": "code",
   "execution_count": 38,
   "metadata": {},
   "outputs": [
    {
     "data": {
      "text/plain": [
       "55"
      ]
     },
     "execution_count": 38,
     "metadata": {},
     "output_type": "execute_result"
    }
   ],
   "source": [
    "prime_pi(257)"
   ]
  },
  {
   "cell_type": "code",
   "execution_count": 41,
   "metadata": {},
   "outputs": [],
   "source": [
    "def Calcul_Mersenne(n):\n",
    "    return 2^n - 1"
   ]
  },
  {
   "cell_type": "code",
   "execution_count": 42,
   "metadata": {},
   "outputs": [],
   "source": [
    "def Mersenne(nb1, nb2):\n",
    "    liste=[]\n",
    "    for p in prime_range(nb1, nb2+1):\n",
    "        liste.append(Calcul_Mersenne(p))\n",
    "    return liste"
   ]
  },
  {
   "cell_type": "code",
   "execution_count": 43,
   "metadata": {},
   "outputs": [],
   "source": [
    "def Mersenne_premier(nb1, nb2):\n",
    "    result=[]\n",
    "    liste=[]\n",
    "    for p in prime_range(nb1, nb2+1): #on utilise pas la fonction précédente pour avoir les p associé\n",
    "        mers=Calcul_Mersenne(p)\n",
    "        if(is_prime(mers)):\n",
    "            result.append(p)\n",
    "            liste.append(mers)\n",
    "    return (result, liste)"
   ]
  },
  {
   "cell_type": "code",
   "execution_count": 44,
   "metadata": {},
   "outputs": [],
   "source": [
    "(coef,liste_Mersenne)=Mersenne_premier(2,257)"
   ]
  },
  {
   "cell_type": "code",
   "execution_count": 43,
   "metadata": {},
   "outputs": [
    {
     "data": {
      "text/plain": [
       "[2, 3, 5, 7, 13, 17, 19, 31, 61, 89, 107, 127]"
      ]
     },
     "execution_count": 43,
     "metadata": {},
     "output_type": "execute_result"
    }
   ],
   "source": [
    "coef"
   ]
  },
  {
   "cell_type": "code",
   "execution_count": 44,
   "metadata": {},
   "outputs": [
    {
     "data": {
      "text/plain": [
       "True"
      ]
     },
     "execution_count": 44,
     "metadata": {},
     "output_type": "execute_result"
    }
   ],
   "source": [
    "is_prime(Calcul_Mersenne(107)) # vérification 107"
   ]
  },
  {
   "cell_type": "code",
   "execution_count": 45,
   "metadata": {},
   "outputs": [
    {
     "data": {
      "text/plain": [
       "False"
      ]
     },
     "execution_count": 45,
     "metadata": {},
     "output_type": "execute_result"
    }
   ],
   "source": [
    "is_prime(Calcul_Mersenne(257)) # vérification 257"
   ]
  },
  {
   "cell_type": "code",
   "execution_count": 46,
   "metadata": {},
   "outputs": [
    {
     "data": {
      "text/plain": [
       "13367 * 164511353"
      ]
     },
     "execution_count": 46,
     "metadata": {},
     "output_type": "execute_result"
    }
   ],
   "source": [
    "factor(Calcul_Mersenne(41))"
   ]
  },
  {
   "cell_type": "code",
   "execution_count": 47,
   "metadata": {},
   "outputs": [
    {
     "data": {
      "text/plain": [
       "2351 * 4513 * 13264529"
      ]
     },
     "execution_count": 47,
     "metadata": {},
     "output_type": "execute_result"
    }
   ],
   "source": [
    "factor(Calcul_Mersenne(47))"
   ]
  },
  {
   "cell_type": "code",
   "execution_count": 48,
   "metadata": {},
   "outputs": [],
   "source": [
    "def somme_diviseurs(n):\n",
    "    sum=0\n",
    "    for i in range(1,n):\n",
    "        if(n//i==n/i):\n",
    "            sum=sum+i\n",
    "    return sum"
   ]
  },
  {
   "cell_type": "code",
   "execution_count": 49,
   "metadata": {},
   "outputs": [
    {
     "data": {
      "text/plain": [
       "3"
      ]
     },
     "execution_count": 49,
     "metadata": {},
     "output_type": "execute_result"
    }
   ],
   "source": [
    "somme_diviseurs(4)"
   ]
  },
  {
   "cell_type": "code",
   "execution_count": 50,
   "metadata": {},
   "outputs": [
    {
     "data": {
      "text/plain": [
       "6"
      ]
     },
     "execution_count": 50,
     "metadata": {},
     "output_type": "execute_result"
    }
   ],
   "source": [
    "somme_diviseurs(6)"
   ]
  },
  {
   "cell_type": "code",
   "execution_count": 51,
   "metadata": {},
   "outputs": [],
   "source": [
    "def is_perfect(n):\n",
    "    return somme_diviseurs(n)==n"
   ]
  },
  {
   "cell_type": "code",
   "execution_count": 52,
   "metadata": {},
   "outputs": [
    {
     "data": {
      "text/plain": [
       "False"
      ]
     },
     "execution_count": 52,
     "metadata": {},
     "output_type": "execute_result"
    }
   ],
   "source": [
    "is_perfect(4)"
   ]
  },
  {
   "cell_type": "code",
   "execution_count": 53,
   "metadata": {},
   "outputs": [
    {
     "data": {
      "text/plain": [
       "True"
      ]
     },
     "execution_count": 53,
     "metadata": {},
     "output_type": "execute_result"
    }
   ],
   "source": [
    "is_perfect(6)"
   ]
  },
  {
   "cell_type": "code",
   "execution_count": 54,
   "metadata": {},
   "outputs": [],
   "source": [
    "def Mersenne_parfait(nb1,nb2):\n",
    "    result=[]\n",
    "    for i in Mersenne_premier(nb1,nb2+1)[0]: # pour avoir les coefficients\n",
    "        mers=Calcul_Mersenne(i)\n",
    "        if(not is_perfect(2^(i-1) *mers)):\n",
    "            return False\n",
    "    return True\n"
   ]
  },
  {
   "cell_type": "code",
   "execution_count": 55,
   "metadata": {},
   "outputs": [
    {
     "data": {
      "text/plain": [
       "True"
      ]
     },
     "execution_count": 55,
     "metadata": {},
     "output_type": "execute_result"
    }
   ],
   "source": [
    "Mersenne_parfait(2,10)"
   ]
  },
  {
   "cell_type": "code",
   "execution_count": 56,
   "metadata": {},
   "outputs": [],
   "source": [
    "def Lucas(s):\n",
    "    if(s%2==0):\n",
    "        return False #pair !!\n",
    "    n=Calcul_Mersenne(s)\n",
    "    Ln=4\n",
    "    for i in range(2,s):\n",
    "        Ln=(Ln^2 - 2)%n\n",
    "    \n",
    "    if(Ln%n==0):\n",
    "        return True\n",
    "    \n",
    "    else:\n",
    "        return False"
   ]
  },
  {
   "cell_type": "code",
   "execution_count": 57,
   "metadata": {},
   "outputs": [],
   "source": [
    "def comparaison():\n",
    "    n=100000 # pour que la recompilation soit plus rapide\n",
    "    dif=0\n",
    "    while(dif<300 and n<300000): #1sec\n",
    "        n=n+10001\n",
    "        t1=time.time()\n",
    "        Lucas(n)\n",
    "        t2=time.time()\n",
    "        dif=t2-t1\n",
    "        print(dif) \n",
    "    print(n)    \n",
    "    print(dif)  \n",
    "    n=520 # pour que la recompilation soit plus rapide\n",
    "    dif=0 \n",
    "    while(dif<1 ):\n",
    "        t1=time.time()\n",
    "        is_prime(Calcul_Mersenne(n))\n",
    "        t2=time.time()\n",
    "        n=n+5\n",
    "        dif=t2-t1\n",
    "    print(n)"
   ]
  },
  {
   "cell_type": "code",
   "execution_count": 58,
   "metadata": {},
   "outputs": [],
   "source": [
    "#comparaison()"
   ]
  },
  {
   "cell_type": "code",
   "execution_count": 59,
   "metadata": {},
   "outputs": [
    {
     "name": "stdout",
     "output_type": "stream",
     "text": [
      "128.37678575515747\n",
      "True\n"
     ]
    }
   ],
   "source": [
    "import time\n",
    "t1=time.time()\n",
    "test=Lucas(132049)\n",
    "t2=time.time()\n",
    "print(t2-t1) \n",
    "print(test)"
   ]
  },
  {
   "cell_type": "code",
   "execution_count": 60,
   "metadata": {},
   "outputs": [
    {
     "name": "stdout",
     "output_type": "stream",
     "text": [
      "400.90607023239136\n",
      "True\n"
     ]
    }
   ],
   "source": [
    "t1=time.time()\n",
    "test=Lucas(216091)\n",
    "t2=time.time()\n",
    "print(t2-t1) #417.293541431427\n",
    "print(test)"
   ]
  },
  {
   "cell_type": "code",
   "execution_count": 61,
   "metadata": {},
   "outputs": [
    {
     "name": "stdout",
     "output_type": "stream",
     "text": [
      "156.52274298667908\n",
      "True\n"
     ]
    }
   ],
   "source": [
    "t1=time.time()\n",
    "test=is_prime(Calcul_Mersenne(3217))\n",
    "t2=time.time()\n",
    "print(t2-t1)\n",
    "print(test)\n"
   ]
  },
  {
   "cell_type": "code",
   "execution_count": 66,
   "metadata": {},
   "outputs": [],
   "source": [
    "import time\n",
    "def meilleur_Lucas():\n",
    "    t0=time.time()\n",
    "    t1=0\n",
    "    n=11 # nombre premier pas trop petit\n",
    "    t=0\n",
    "    p=0\n",
    "    while(t1<300):\n",
    "        t=Lucas(n)\n",
    "        t1=time.time()-t0\n",
    "        if(t):\n",
    "            p=n # garde en mémoire le plus grand nombre premier rencontrer  \n",
    "        n=next_probable_prime(n) #pour ne pas inférer sur le temps\n",
    "    return p"
   ]
  },
  {
   "cell_type": "code",
   "execution_count": 67,
   "metadata": {},
   "outputs": [
    {
     "data": {
      "text/plain": [
       "11213"
      ]
     },
     "execution_count": 67,
     "metadata": {},
     "output_type": "execute_result"
    }
   ],
   "source": [
    "meilleur_Lucas()"
   ]
  },
  {
   "cell_type": "code",
   "execution_count": 81,
   "metadata": {},
   "outputs": [],
   "source": [
    "import time\n",
    "def meilleur_is_prime():\n",
    "    t0=time.time()\n",
    "    t1=0\n",
    "    n=11 # nombre premier pas trop petit\n",
    "    t=0\n",
    "    p=0\n",
    "    while(t1<300):\n",
    "        t=is_prime(Calcul_Mersenne(n))\n",
    "        t1=time.time()-t0\n",
    "        if(t):\n",
    "            p=n # garde en mémoire le plus grand nombre premier rencontrer  \n",
    "        n=next_probable_prime(n) #pour ne pas inférer sur le temps\n",
    "    return p"
   ]
  },
  {
   "cell_type": "code",
   "execution_count": 82,
   "metadata": {},
   "outputs": [
    {
     "data": {
      "text/plain": [
       "3217"
      ]
     },
     "execution_count": 82,
     "metadata": {},
     "output_type": "execute_result"
    }
   ],
   "source": [
    "meilleur_is_prime()"
   ]
  },
  {
   "cell_type": "code",
   "execution_count": 70,
   "metadata": {},
   "outputs": [],
   "source": [
    "#Exercice 3"
   ]
  },
  {
   "cell_type": "code",
   "execution_count": 71,
   "metadata": {},
   "outputs": [],
   "source": [
    "def naif_it(x,n): #complexité de O(n)\n",
    "    result=1\n",
    "    for i in range(n):\n",
    "        result*=x\n",
    "    return result"
   ]
  },
  {
   "cell_type": "code",
   "execution_count": 72,
   "metadata": {},
   "outputs": [],
   "source": [
    "def naif_rec(x,n): #complexité de O(n)\n",
    "    if (n==1):\n",
    "        return x\n",
    "    else:\n",
    "        return x*naif_rec(x,n-1)"
   ]
  },
  {
   "cell_type": "code",
   "execution_count": 73,
   "metadata": {},
   "outputs": [
    {
     "data": {
      "text/plain": [
       "625"
      ]
     },
     "execution_count": 73,
     "metadata": {},
     "output_type": "execute_result"
    }
   ],
   "source": [
    "naif_it(5,4)"
   ]
  },
  {
   "cell_type": "code",
   "execution_count": 74,
   "metadata": {},
   "outputs": [
    {
     "data": {
      "text/plain": [
       "625"
      ]
     },
     "execution_count": 74,
     "metadata": {},
     "output_type": "execute_result"
    }
   ],
   "source": [
    "naif_rec(5,4)"
   ]
  },
  {
   "cell_type": "code",
   "execution_count": 75,
   "metadata": {},
   "outputs": [],
   "source": [
    "def dicho_rec(x,n,y):  # O(ln n)\n",
    "    if(n==1):\n",
    "        return x*y\n",
    "    if(n%2==0):\n",
    "        return dicho_rec(x*x,n/2,y)\n",
    "    else:\n",
    "        return dicho_rec(x*x,(n-1)/2,y*x)  "
   ]
  },
  {
   "cell_type": "code",
   "execution_count": 76,
   "metadata": {},
   "outputs": [
    {
     "data": {
      "text/plain": [
       "9765625"
      ]
     },
     "execution_count": 76,
     "metadata": {},
     "output_type": "execute_result"
    }
   ],
   "source": [
    "dicho_rec(5,10,1)"
   ]
  },
  {
   "cell_type": "code",
   "execution_count": 77,
   "metadata": {},
   "outputs": [],
   "source": [
    "def dicho_it(x,n,y): # O(ln n)\n",
    "    result=x\n",
    "    y=1\n",
    "    while(n>1):\n",
    "        if(n%2==0):\n",
    "            n=n/2\n",
    "            result*=result\n",
    "        else:\n",
    "            n=(n-1)/2\n",
    "            y*=result\n",
    "            result*=result  \n",
    "    return result*y"
   ]
  },
  {
   "cell_type": "code",
   "execution_count": 78,
   "metadata": {},
   "outputs": [
    {
     "data": {
      "text/plain": [
       "9765625"
      ]
     },
     "execution_count": 78,
     "metadata": {},
     "output_type": "execute_result"
    }
   ],
   "source": [
    "dicho_it(5,10,1)"
   ]
  },
  {
   "cell_type": "code",
   "execution_count": 2,
   "metadata": {},
   "outputs": [],
   "source": [
    "def modpower(x,n,N):\n",
    "    result=x\n",
    "    y=1\n",
    "    while(n>1):\n",
    "        if(n%2==0):\n",
    "            n=n/2\n",
    "            result*=result % N\n",
    "        else:\n",
    "            n=(n-1)/2\n",
    "            y*=result % N\n",
    "            result*=result % N   \n",
    "    return result*y % N"
   ]
  },
  {
   "cell_type": "code",
   "execution_count": 80,
   "metadata": {},
   "outputs": [
    {
     "data": {
      "text/plain": [
       "43"
      ]
     },
     "execution_count": 80,
     "metadata": {},
     "output_type": "execute_result"
    }
   ],
   "source": [
    "modpower(51,11,103)"
   ]
  },
  {
   "cell_type": "code",
   "execution_count": 81,
   "metadata": {},
   "outputs": [
    {
     "data": {
      "text/plain": [
       "43"
      ]
     },
     "execution_count": 81,
     "metadata": {},
     "output_type": "execute_result"
    }
   ],
   "source": [
    "power_mod(51,11,103)"
   ]
  },
  {
   "cell_type": "code",
   "execution_count": 82,
   "metadata": {},
   "outputs": [
    {
     "data": {
      "text/plain": [
       "43"
      ]
     },
     "execution_count": 82,
     "metadata": {},
     "output_type": "execute_result"
    }
   ],
   "source": [
    "51^11 % 103"
   ]
  },
  {
   "cell_type": "code",
   "execution_count": 10,
   "metadata": {},
   "outputs": [
    {
     "data": {
      "text/plain": [
       "25274758"
      ]
     },
     "execution_count": 10,
     "metadata": {},
     "output_type": "execute_result"
    }
   ],
   "source": [
    "modpower(456968,35230527,79123442)"
   ]
  },
  {
   "cell_type": "code",
   "execution_count": 9,
   "metadata": {},
   "outputs": [
    {
     "data": {
      "text/plain": [
       "25274758"
      ]
     },
     "execution_count": 9,
     "metadata": {},
     "output_type": "execute_result"
    }
   ],
   "source": [
    "456968^35230527 % 79123442 # bien plus long..."
   ]
  },
  {
   "cell_type": "code",
   "execution_count": 12,
   "metadata": {},
   "outputs": [
    {
     "data": {
      "text/plain": [
       "25274758"
      ]
     },
     "execution_count": 12,
     "metadata": {},
     "output_type": "execute_result"
    }
   ],
   "source": [
    "power_mod(456968,35230527,79123442) # même temps que notre fonction"
   ]
  },
  {
   "cell_type": "code",
   "execution_count": 83,
   "metadata": {},
   "outputs": [],
   "source": [
    "#Exercice 4"
   ]
  },
  {
   "cell_type": "code",
   "execution_count": 8,
   "metadata": {},
   "outputs": [
    {
     "name": "stdout",
     "output_type": "stream",
     "text": [
      "Free alphabetic string monoid on A-Z\n",
      "Free hexadecimal string monoid\n",
      "Free binary string monoid\n"
     ]
    }
   ],
   "source": [
    "S1=AlphabeticStrings();\n",
    "print(S1)\n",
    "S2=HexadecimalStrings();\n",
    "print(S2)\n",
    "S3=BinaryStrings();\n",
    "print(S3)"
   ]
  },
  {
   "cell_type": "code",
   "execution_count": 15,
   "metadata": {},
   "outputs": [
    {
     "data": {
      "text/plain": [
       "UNEVODKAMARTINIMELANGEEAUSHAKERPASALACUILLEREJB"
      ]
     },
     "execution_count": 15,
     "metadata": {},
     "output_type": "execute_result"
    }
   ],
   "source": [
    "S1.encoding('Une vodka-Martini. Melangee au shaker, pas a la cuillere. - JB ') # min --> Maj et non prise en compte des espaces"
   ]
  },
  {
   "cell_type": "code",
   "execution_count": 85,
   "metadata": {},
   "outputs": [
    {
     "name": "stdout",
     "output_type": "stream",
     "text": [
      "010100010111010101100101001000000110101001100001011010010110110101100101001000001110000000100000011001100110000101101001011100100110010100100000011000110110111101101110011011100110000111101110011101000111001001100101001000000111010101101110001000000110111001101111011011010110001001110010011001010010000001110101011101000110100101101100011001010010000001100001011101010111100000100000011100110110000101100111011001010111001100100000001011100010111000101110\n",
      "Que jaime à faire connaître un nombre utile aux sages ...\n"
     ]
    }
   ],
   "source": [
    "original=\"Que jaime à faire connaître un nombre utile aux sages ...\";\n",
    "ori_num=S3.encoding(original);\n",
    "print(ori_num);\n",
    "print(ori_num.decoding());"
   ]
  },
  {
   "cell_type": "code",
   "execution_count": 86,
   "metadata": {},
   "outputs": [
    {
     "name": "stdout",
     "output_type": "stream",
     "text": [
      "517565206a61696d6520e020666169726520636f6e6e61ee74726520756e206e6f6d627265207574696c6520617578207361676573202e2e2e\n",
      "Que jaime à faire connaître un nombre utile aux sages ...\n"
     ]
    }
   ],
   "source": [
    "ori_let=S2.encoding(\"Que jaime à faire connaître un nombre utile aux sages ...\");\n",
    "print(ori_let);\n",
    "print(ori_let.decoding());\n"
   ]
  },
  {
   "cell_type": "code",
   "execution_count": 87,
   "metadata": {},
   "outputs": [
    {
     "data": {
      "text/plain": [
       "456"
      ]
     },
     "execution_count": 87,
     "metadata": {},
     "output_type": "execute_result"
    }
   ],
   "source": [
    "len(ori_num)"
   ]
  },
  {
   "cell_type": "code",
   "execution_count": 88,
   "metadata": {},
   "outputs": [
    {
     "data": {
      "text/plain": [
       "010100010111010101100101001000000110101001100001011010010110110101100101001000001110000000100000011001100110000101101001011100100110010100100000011000110110111101101110011011100110000111101110011101000111001001100101001000000111010101101110001000000110111001101111011011010110001001110010011001010010000001110101011101000110100101101100011001010010000001100001011101010111100000100000011100110110000101100111011001010111001100100000001011100010111000101110"
      ]
     },
     "execution_count": 88,
     "metadata": {},
     "output_type": "execute_result"
    }
   ],
   "source": [
    "ori_num"
   ]
  },
  {
   "cell_type": "code",
   "execution_count": 89,
   "metadata": {},
   "outputs": [
    {
     "data": {
      "text/plain": [
       "4"
      ]
     },
     "execution_count": 89,
     "metadata": {},
     "output_type": "execute_result"
    }
   ],
   "source": [
    "N(log(15)/log(2))   # N(.) pour avoir une approximation\n",
    "                    # on voit donc qu'il faut int(log(N)/log(2))+1\n",
    "int(log(15)/log(2))+1"
   ]
  },
  {
   "cell_type": "code",
   "execution_count": 90,
   "metadata": {},
   "outputs": [],
   "source": [
    "def numerise(original,N):\n",
    "    i=0\n",
    "    ori_bin=S3.encoding(original);\n",
    "    taille=len(ori_bin);\n",
    "    paquet=int(log(N)/log(2))+1\n",
    "    resultat=[]\n",
    "    \n",
    "    while(i<taille-paquet):\n",
    "        mot_courant=int(str(ori_bin[0:paquet]),2)\n",
    "        ori_bin=ori_bin[paquet:]\n",
    "        resultat.append(mot_courant)\n",
    "        i+=paquet\n",
    "     \n",
    "    ori_bin=str(ori_bin)\n",
    "    taille=len(ori_bin)\n",
    "\n",
    "    for j in range(paquet-taille):\n",
    "        ori_bin = ori_bin + '0'\n",
    "        \n",
    "    resultat.append(int(ori_bin,2))\n",
    "    return resultat"
   ]
  },
  {
   "cell_type": "code",
   "execution_count": 91,
   "metadata": {},
   "outputs": [],
   "source": [
    "list_num=numerise(original,5)"
   ]
  },
  {
   "cell_type": "code",
   "execution_count": 92,
   "metadata": {},
   "outputs": [
    {
     "data": {
      "text/plain": [
       "[2,\n",
       " 4,\n",
       " 2,\n",
       " 7,\n",
       " 2,\n",
       " 5,\n",
       " 4,\n",
       " 5,\n",
       " 1,\n",
       " 0,\n",
       " 0,\n",
       " 6,\n",
       " 5,\n",
       " 1,\n",
       " 4,\n",
       " 1,\n",
       " 3,\n",
       " 2,\n",
       " 2,\n",
       " 6,\n",
       " 6,\n",
       " 5,\n",
       " 4,\n",
       " 5,\n",
       " 1,\n",
       " 0,\n",
       " 1,\n",
       " 6,\n",
       " 0,\n",
       " 0,\n",
       " 4,\n",
       " 0,\n",
       " 3,\n",
       " 1,\n",
       " 4,\n",
       " 6,\n",
       " 0,\n",
       " 5,\n",
       " 5,\n",
       " 1,\n",
       " 3,\n",
       " 4,\n",
       " 4,\n",
       " 6,\n",
       " 2,\n",
       " 4,\n",
       " 4,\n",
       " 0,\n",
       " 3,\n",
       " 0,\n",
       " 6,\n",
       " 6,\n",
       " 7,\n",
       " 5,\n",
       " 5,\n",
       " 6,\n",
       " 3,\n",
       " 3,\n",
       " 4,\n",
       " 6,\n",
       " 0,\n",
       " 7,\n",
       " 5,\n",
       " 6,\n",
       " 3,\n",
       " 5,\n",
       " 0,\n",
       " 7,\n",
       " 1,\n",
       " 1,\n",
       " 4,\n",
       " 5,\n",
       " 1,\n",
       " 0,\n",
       " 0,\n",
       " 7,\n",
       " 2,\n",
       " 5,\n",
       " 5,\n",
       " 6,\n",
       " 1,\n",
       " 0,\n",
       " 0,\n",
       " 6,\n",
       " 7,\n",
       " 1,\n",
       " 5,\n",
       " 7,\n",
       " 3,\n",
       " 3,\n",
       " 2,\n",
       " 6,\n",
       " 1,\n",
       " 1,\n",
       " 6,\n",
       " 2,\n",
       " 3,\n",
       " 1,\n",
       " 2,\n",
       " 2,\n",
       " 0,\n",
       " 1,\n",
       " 6,\n",
       " 5,\n",
       " 3,\n",
       " 5,\n",
       " 0,\n",
       " 6,\n",
       " 4,\n",
       " 5,\n",
       " 5,\n",
       " 4,\n",
       " 3,\n",
       " 1,\n",
       " 2,\n",
       " 2,\n",
       " 0,\n",
       " 1,\n",
       " 4,\n",
       " 1,\n",
       " 3,\n",
       " 5,\n",
       " 2,\n",
       " 7,\n",
       " 4,\n",
       " 0,\n",
       " 4,\n",
       " 0,\n",
       " 3,\n",
       " 4,\n",
       " 6,\n",
       " 6,\n",
       " 0,\n",
       " 5,\n",
       " 4,\n",
       " 7,\n",
       " 3,\n",
       " 1,\n",
       " 2,\n",
       " 7,\n",
       " 1,\n",
       " 4,\n",
       " 4,\n",
       " 0,\n",
       " 1,\n",
       " 3,\n",
       " 4,\n",
       " 2,\n",
       " 7,\n",
       " 0,\n",
       " 5,\n",
       " 6]"
      ]
     },
     "execution_count": 92,
     "metadata": {},
     "output_type": "execute_result"
    }
   ],
   "source": [
    "list_num"
   ]
  },
  {
   "cell_type": "code",
   "execution_count": 93,
   "metadata": {},
   "outputs": [],
   "source": [
    "def conversion_bin(n,N):\n",
    "    if(N<0):\n",
    "        print(\"erreur\") #exception ?\n",
    "    if (n > 1) or (N>1) :\n",
    "        return( conversion_bin(n // 2,N-1) + str(n %2))\n",
    "    else : \n",
    "        return(str(n %2))"
   ]
  },
  {
   "cell_type": "code",
   "execution_count": 94,
   "metadata": {},
   "outputs": [
    {
     "data": {
      "text/plain": [
       "'000000000101'"
      ]
     },
     "execution_count": 94,
     "metadata": {},
     "output_type": "execute_result"
    }
   ],
   "source": [
    "conversion_bin(5,12)"
   ]
  },
  {
   "cell_type": "code",
   "execution_count": 95,
   "metadata": {},
   "outputs": [],
   "source": [
    "def alphabetise(list_num,N):\n",
    "    i=0\n",
    "    taille=len(list_num);\n",
    "    resultat=\"\"\n",
    "    paquet=int(log(N)/log(2))+1\n",
    "    while(i<taille):\n",
    "        mot_courant=conversion_bin(list_num[0],paquet)\n",
    "        list_num=list_num[1:]\n",
    "        resultat+=mot_courant\n",
    "        i+=1\n",
    "        \n",
    "    mot=S3(resultat);\n",
    "    \n",
    "    return mot.decoding()"
   ]
  },
  {
   "cell_type": "code",
   "execution_count": 96,
   "metadata": {},
   "outputs": [],
   "source": [
    "mot=alphabetise(list_num,5)"
   ]
  },
  {
   "cell_type": "code",
   "execution_count": 97,
   "metadata": {},
   "outputs": [
    {
     "data": {
      "text/plain": [
       "'Que jaime à faire connaître un nombre utile aux sages ...'"
      ]
     },
     "execution_count": 97,
     "metadata": {},
     "output_type": "execute_result"
    }
   ],
   "source": [
    "mot"
   ]
  },
  {
   "cell_type": "code",
   "execution_count": 98,
   "metadata": {},
   "outputs": [],
   "source": [
    "#ore=int(num)\n",
    "#print(ore.decoding())"
   ]
  },
  {
   "cell_type": "code",
   "execution_count": 99,
   "metadata": {},
   "outputs": [
    {
     "data": {
      "text/plain": [
       "'010'"
      ]
     },
     "execution_count": 99,
     "metadata": {},
     "output_type": "execute_result"
    }
   ],
   "source": [
    "conversion_bin(2,3)"
   ]
  },
  {
   "cell_type": "code",
   "execution_count": 100,
   "metadata": {},
   "outputs": [],
   "source": [
    "#4.3"
   ]
  },
  {
   "cell_type": "code",
   "execution_count": 101,
   "metadata": {},
   "outputs": [
    {
     "data": {
      "text/plain": [
       "3^2 * 463 * 1063 * 3642819352103 * 675108693939607 * 2920323560274736829 * 3880752157376432275978641677254201"
      ]
     },
     "execution_count": 101,
     "metadata": {},
     "output_type": "execute_result"
    }
   ],
   "source": [
    "factor(12345678998776543212325263575737675253568746862374340956273856298475750347523789572389)\n",
    "factor(123456789987765432123252635675737675253568746862374340956273856298475750347523789572389) # a partir de là ça prend du temps"
   ]
  },
  {
   "cell_type": "code",
   "execution_count": 102,
   "metadata": {},
   "outputs": [
    {
     "data": {
      "text/plain": [
       "87"
      ]
     },
     "execution_count": 102,
     "metadata": {},
     "output_type": "execute_result"
    }
   ],
   "source": [
    "len('123456789987765432123252635675737675253568746862374340956273856298475750347523789572389')"
   ]
  },
  {
   "cell_type": "code",
   "execution_count": 17,
   "metadata": {},
   "outputs": [],
   "source": [
    "import random\n",
    "\n",
    "def cleRSA(r):\n",
    "    \n",
    "    m=10^r\n",
    "    rand=random.randrange(10^(int(r/10)),10^(int(r/2)))\n",
    "    p=next_probable_prime(rand)\n",
    "    \n",
    "    \n",
    "    rand=random.randrange(int(m/p),int((m*10)/p))\n",
    "    q=next_probable_prime(rand)\n",
    "    \n",
    "\n",
    "    \n",
    "    n=p*q\n",
    "    phi=(p-1)*(q-1)\n",
    "    \n",
    "    rand=random.randrange(n,n*2)\n",
    "    \n",
    "    while(gcd(rand,phi)!=1):\n",
    "        rand=rand+1\n",
    "    e=rand\n",
    "    \n",
    "    \n",
    "    bezout= xgcd(e,phi)\n",
    "    d=bezout[1] % phi\n",
    "    \n",
    "    \n",
    "    return [n,e,d]"
   ]
  },
  {
   "cell_type": "code",
   "execution_count": 110,
   "metadata": {},
   "outputs": [
    {
     "data": {
      "text/plain": [
       "[64789, 123335, 58139]"
      ]
     },
     "execution_count": 110,
     "metadata": {},
     "output_type": "execute_result"
    }
   ],
   "source": [
    "cleRSA(4)"
   ]
  },
  {
   "cell_type": "code",
   "execution_count": 111,
   "metadata": {},
   "outputs": [
    {
     "data": {
      "text/plain": [
       "67 * 967"
      ]
     },
     "execution_count": 111,
     "metadata": {},
     "output_type": "execute_result"
    }
   ],
   "source": [
    "factor(64789)"
   ]
  },
  {
   "cell_type": "code",
   "execution_count": 112,
   "metadata": {},
   "outputs": [
    {
     "name": "stdout",
     "output_type": "stream",
     "text": [
      "5401\n"
     ]
    }
   ],
   "source": [
    "M=1234\n",
    "C=M^123335 % 64789\n",
    "print(C)"
   ]
  },
  {
   "cell_type": "code",
   "execution_count": 113,
   "metadata": {},
   "outputs": [
    {
     "name": "stdout",
     "output_type": "stream",
     "text": [
      "1234\n"
     ]
    }
   ],
   "source": [
    "D=C^58139 % 64789 # On retrouve bien le même résultat\n",
    "print(D)"
   ]
  },
  {
   "cell_type": "code",
   "execution_count": 18,
   "metadata": {},
   "outputs": [
    {
     "data": {
      "text/plain": [
       "[2836111689337907248379405457491,\n",
       " 5376176127226666214960532617365,\n",
       " 1755407665423482108760882948285]"
      ]
     },
     "execution_count": 18,
     "metadata": {},
     "output_type": "execute_result"
    }
   ],
   "source": [
    "cleRSA(30)"
   ]
  },
  {
   "cell_type": "code",
   "execution_count": 21,
   "metadata": {},
   "outputs": [
    {
     "data": {
      "text/plain": [
       "977517349759597 * 2901341536327103"
      ]
     },
     "execution_count": 21,
     "metadata": {},
     "output_type": "execute_result"
    }
   ],
   "source": [
    "factor(2836111689337907248379405457491)"
   ]
  },
  {
   "cell_type": "code",
   "execution_count": 22,
   "metadata": {},
   "outputs": [
    {
     "data": {
      "text/plain": [
       "[6825458987009010606068449340501,\n",
       " 7877740732373548411212507657209,\n",
       " 5200986377225505909296876252489]"
      ]
     },
     "execution_count": 22,
     "metadata": {},
     "output_type": "execute_result"
    }
   ],
   "source": [
    "cleRSA(30)"
   ]
  },
  {
   "cell_type": "code",
   "execution_count": 23,
   "metadata": {},
   "outputs": [
    {
     "data": {
      "text/plain": [
       "373864108451861 * 18256523781522241"
      ]
     },
     "execution_count": 23,
     "metadata": {},
     "output_type": "execute_result"
    }
   ],
   "source": [
    "factor(6825458987009010606068449340501)"
   ]
  },
  {
   "cell_type": "code",
   "execution_count": 114,
   "metadata": {},
   "outputs": [
    {
     "data": {
      "text/plain": [
       "[975871519830052837267716775101376558673759744037641870111313332999420236611801475404731632423162565032438517232368547391593069587441765706089315348157563636825282050740979754283941081838436369636781229144653079316877691033824131886043556387585499191348000462817900465850485265303654640409487839395868759178927335810816182107663297910680660433595579877594022657113650334844775202904564268939993740844217748170905238246842477696376640501091311969046404443482331054504271058312676098378997201706308420836635019607819816269392809839264773718436575621949721105048755641880474291061568347472152927907638048886258663294075689953598592551328409687166736987930124739271752657304078249355974156074957407405782823283904622748859669028946463122700841179510456691564974720656237862147154490463269756058096797626821303379439690791860529843339867510237974973883935996193293658876750925697200029977798036990332775702562171653163441918110113738682399786232964838515225577745055829679810981959472232319311076207505244828216403833753001292459737275944431176839019580476524990977554599732459778264281605309085036283197284554190976516542223292921859638816535444626787957521195216309103857030698440241525906581390349979088975026936125623371712457077207150775091475292064935352116219464243801835101631406765410164865256961076057150020404841517988992687499180584470987805403993011275328028840204615094023316488396006510725148625120424334616371609409426127794773149276899204692361195662121879702298875397395910502762522607043883208997627688580231923124815464564211043191287391051614972538910065468283241355558455028699209132991048321573885572235581483738190196644281182189756215958002976356009681556311854667862061224997653204359502182111906721990061706805418077142593794569400616658616937017776024534484876919794055196424707714502955359284680328871963376393724355807544448246287771688384634836141631768729160538693542951119993750895256891724760669364804189062381738010400234980919163228008365473820737797291437685906270777861822765361313761310745226045090145034848594715939,\n",
       " 976443698398082017842851237766170215682027173331050823812373658134791273134687374902994882049911298543819740945532704261267746166803173032741769643987108480636086732301081235110779227074849627316790916884078087125387442282337484100198345527184982366903809996124554391688221565738769769991937543314852779890964722030186663451136687505133355723994314589457127255991371965183896587256554776750668086415194371753826283893910408666246010569412016677320342620858803665013462222524545307144517617957434021205996279431233782636982354203095535232417468752577951677075801197383900164573598489528709322441653527463366760988115854063616115415382126002007076642550381255850620581676648796032752840065014237982247569478072747357643441529386217069535796569015520288121961129427769410150331348439951257187911378295834870072061397904255810109366400361794139133988299763642760279781858310392121223865352243137939921733090157577746111245365955642242730024285447098135001349724041012665053203645429969448388294803911755773393459773325056010704178035346189845348635535230503064088877429509652377881674201305810770070909594831644186405860273986936410822498255203890265381691962557657585393409076018336939979437073895437037135053474792899780832988496714909912515564278385756045849406067335914182758036599782005137601876756180339764266386334868566547584347685690658921763960837301906555172247680509448204064102879937214977326906268413822203738103053298291949597534644392538372425322639738688781113514929592082887525916863630537039995533617265188138757906370711991146697206057851873766690232581226569443713254959305025876361691762769454320086996185406772397610050711494267490164462186661588338420786702169994846975620313508309418527854612059526560375088966268247126044306929747501892067936637160860367331324036385093106357316993229773804324853233747637279788167369662067306094845851167453611909356177398384787372694266197837385590312500950855531573503505034868712956197800043105492324118972535923543854531241613961307745916006455710060529537617350303632970016811521283083301,\n",
       " 38609433355256744910759933351022428939624320566441718933156453871542932593076130006601305597846867837387964968678551015028466066721880118362474960282155098777717128394406086406403851402108342558794691295749615212271811151393380127178213690002546707740892465889969672686430731605743586258045627709939839893829877928025814112174759666278783345735370595344190396380533071870964565623882023666525446921112430414469180366585770443930017845701631877825462502070960336161968281233470754839319056849407403044162722562570563285358298024299372511650730386742978371628539665314329510024110426308115906549638899469765250744285250148896550785048782442258735438495298321987950642480698902123651883873204164748262925752947361264503010528547014679395347581838752844119692307796068978897957125425035608093574885774911903399738088891213545963158294062051464020768232360986347207950928891402951332021633449142843230639975114851613713989595536598981165125878241359810616484854682206000693808233939543991700662403966729746710605162485796111800502086270595701578986648727108084080898960375124626151485107769985890099082003809089261157512496695431484193167309867568574578202301248947134660822849894251067280251048169544617198072550911775819103491370381847587457538583114629927933887885778810524002754548910714495559962657611713229603638033952361794452532541934159522497886991286558600523087071861376944377019550216091279571935311741414112670733131662650801433557709936853156647988174891636420987199127453574266808742559065390260300662820503424467625742158047032354044102386649006706821146103778966005965005690698694736532012407999186114791976654348812059249876373522016324560227837936704758932312840160975065517049662008959926823963998958106815072381031126445255146153365391792206318435058109213609468619762646711275339402128938073223710326942993290021737831607116844753876141377029360593839488084671014710677349450036059780201027460045223382587562076215345090228571701894970835842968218264865900031281914116396951540320097396942260586445325864969976171474448011552196589]"
      ]
     },
     "execution_count": 114,
     "metadata": {},
     "output_type": "execute_result"
    }
   ],
   "source": [
    "cleRSA(2048)"
   ]
  },
  {
   "cell_type": "code",
   "execution_count": 115,
   "metadata": {},
   "outputs": [
    {
     "data": {
      "text/plain": [
       "[5773800994056462244269147607499601860412035437445859377985220994232846537033967340490321606220299761999158487848756762058087573681444320494330006670137115738235902076495815531486587927517287439558389768434262373198832286154177289669253361802743833228048155297591556326408059118119683915133808213484663538356197578931122201135626277718684924084011301307780829583913587265949000970275344243414003400873681554550712447955766670852059781000660507797890286221233141026131644194576162975159985610446631654418910808874345017246542699960090123567244010650485409537392627070239322531469579063835342742672604329257850530812328655695214327813940538535815738635709900703766894828600368202945571570181559782300174897596924165334347272556303924801984100411636655252366306570255697874182765750589899848131436645131845457948382195790949105189318323332355199683415928988826349610762033128638034147413649364510418026755366608965410318198137353911994238476389056255816871720147949272789264894372358853732701016955057162182449946720771946145429635449176932491216383100464093778927441508616891742331254140644144620437347022354405638453113594448525107738411386643453880813924475223966805600527900531957649944803447678953145575062702638296195915851121468157826825234111468730360701990025432652851597054797312432210160782580643090166668362015468432740930602524740247753811656681274779711213860863761904261567049052296626222528323227504074900464188535634479579086445764822912810079619034629307193885219404208641471782982694669752742644704848047458484481042611672910809234367237219347369291768044845035489127079993027650392049763325391376775781915375732748536458903238831175187999272156235946462884341025778782362104626360346008784946166095096504175048658369741104495586315896662170481577878241336626933003158400098039816576608192509046141280409253701464579108741097710759664964200722815063580218902368039342145610253700959929737491689453832723067396077035224931525462962883229963132562755167731037904756550388843365519998307401483065880768578766476552100034621569368973997113045318868323445491329255455560495666010390302203914495621288199755941978922218086532688659632217987121846432045085152882681088771789960873884091826679553662237405993303395388519814363887979530783930165647842410103101074206013471097122465215551469475825794993208603751713173550313044232787923018913249946690013145186325021913138797164275890389659660950403360231892401611552567976305423621226935896423996816744559339131456653087066330964963471680934135635681420862927263943731334344900813494060670616656838119735047769924353768356766546469068279767350938833629162172047276069394707302472358569153510139136858870090440347828640904036753472922992210108639712634031391002899452028987038292792125052016096580543013638902625836008845427505885243117299934206396032765668350407632328862005219396639346218997637018985477326838451214996248579901449913601423069014220005238313372219764759151387513475338119686338628475035143501416378170083392608736292506124328468623190169345631369406650904284252182670177855517,\n",
       " 9191355424180409744940611539046417178820862438998911074858089205753153194392293320357177036282896381245720457165341586828259487633444755845541278152339167585666287637664191867783194997739405830781439807664447942902115213041061790972349290668056719836044654017733052618760619016366573688754352542135417105073340352809718579974390746204620111412748690111617329002864984524548151067110473516859703251620117748942829586296313094383952969535161699733656975996715250455178926366172719688493128900242810595969149224291890789310307725564628000697342912413053129098400922575725150217499101163215039551967293837908974283027269906635116554694117786578621420749220826409731043884053219120851198984808613688408667407775262308283646754533347532033133150657375014141133270796518572836376867048835239593316010284861161496749979652305754709505319051448687989804738857016233791683004338855431559262349673436565341256361557779620458974816404210958308685701479535127754117526047189410488122290768597997533462464596441705397285541004079653407624427194092392244046580600132414952395104505262309783013288837020162552233604564572846070628327096020328899452951716543273004004873776623302624072425672945533333175423779053680044919481388102969586037429671870345292208961893012919266239939973539241041854411019417817905949938607275186829547345968824053864281952102501351364911820904824892443112155004316145531317031626120516294246397520379940630831133416222062640773628366423179397349456878118626661748349301481651170513336046463513296575507001202387669777903693935994541251693599351959921886064061090755640020777753945075043482590405716495844996099564220741685295908429753461997333354338960428787250759746975320286351335227653363229748553378117201405910716905223220288057664748032128953204902712309659070362824578940955327248359536109449883390210330462474247517564370514785228606337799837594210144390991679303365614298701800919486402792476495101425546308798764568707529863018357872581135732701538490006218513405777771958956623603721974302416300303554651727703883089372136385680672210348949994007988727521134444666293897498287259314805891129753235885209793020505310507334041283517471417087852675365703290266354574734704106739473286133017375508945343101318543643712208654166780187588252912730377073848497677700893327836281260038092741464795109356907830951575259071313689155698304508995213748495443307611391560129593001545004365359931101729928353407458017519294657660207996090722026657087806529006459710671064878923227090822024894973480348675397090020820067066780259682560620204079911582567585060314829231571845250250766307390208334064725356283788808055850522275281343839133209121655540469584523386960548598676650312449211697472597850701434192309017338449164020676332709346708614876603015144026024723668473404428964175059438724369513284788107829801365458608997662952029708302201766316661083406633838923847246377119610321486169409067006208731428049593534651762108994391524623955760050599863806741219954620395204196758713324337141215639487131666643806606243835963665992915694935363,\n",
       " 4771464943670081479156168437094512512210168663155595294180066159988773557843786048455870460586150899039211005836969464861806076746452865281454385506778527264032931515655306299906997608504848154342308912132496679253437124501184313979308074415552708662973738895536686771447189092117715471201885640258948368016311575547178210180187359626589886932067925976823706112816505870538167937009734798006657255432938172280320476176591829592363881628093553965235167351963928800160699853109119317527050814172272582489378665820919003152196545832564624392311364887465012755861242312408417359581754638407167291011777569743794601448414487212018889418792188565167223493076960998604897511248303668363960066245958999202774266434147938822492721614693075906788085757132576033538115014772476619025143035408863549462533188379378460913478594427508376975347690983037950435834431018701162021682899220592382084506687811699108410261098382340815006153574092616024817255793478394469552087374780625513044606821782467651265221756921083042236791073414823523745391784029580875615744469460577143492906550829411067607333082257134607425816038025582655270052410609750745738160329787686951060052407637884975244298869148892170206721743508800293090378302623846534852127101869092941910220152947757167038459298896150079299839572288459157134380977530465721297883701444746977088284466646799236848729350314600770104759473604697304057740264171152677278840206460995514320047124725062677615730376171890802363590386412537896323751774450252669166068061309372022713761448048772710826759587969200077375996863619916972701506667608079963895930180145688070341683480207934531317244936567561550387811707575659281151038713533236093370769077649093747231425145375620547064349749670998404898953489933226878400054900031005973737120685112748610533566348157129401326223165568036002053153752585140846273807063065398054343565464080728068536408051060906304724155973557629456152204313031164101137354714373886557947560637342398691870357275543764281112692559128450843018784050661784867297134429464674506509258607678408041059806673531913194554811798607012224494372784707599410296680781860867040026136071248215131900237470779577922655810756715116992308505332219581275322885274125211904398481004690919215828901050203936645409218475933450930147763599919236274331691901659783460168960163331728458525653949821678857680414161350783440765345674074055962534861432669875277726054832405159042745320188836080242679574634124514828412817365188135250647814847414278803355567687094969119882223175889718723450545502557674121636873725708186700464396934762707990995516837603373373579220971035817974277916450985669794707938608728548623212965310868487085041309028673127767725999405191826082768361233620527121526575496104481231426703435363780889943099447973995398381101443023262762484166946279498243830480433884078896972907327148853570081230584516718442823308896875161724265859326135544671204970445804533016013610599171580058259520587306761631016981481019605985875655205532201739258567225555858228221522195746544336310240186315656413698401233127]"
      ]
     },
     "execution_count": 115,
     "metadata": {},
     "output_type": "execute_result"
    }
   ],
   "source": [
    "cleRSA(3048)"
   ]
  },
  {
   "cell_type": "code",
   "execution_count": 116,
   "metadata": {},
   "outputs": [],
   "source": [
    "#4.4"
   ]
  },
  {
   "cell_type": "code",
   "execution_count": 117,
   "metadata": {},
   "outputs": [],
   "source": [
    "def crypt(liste_ori,e,n):\n",
    "     return list(map(lambda x: power_mod(x,e,n), liste_ori))\n",
    "\n",
    "def decrypt(liste_ori,d,n):\n",
    "     return list(map(lambda x: power_mod(x,d,n), liste_ori))\n",
    "    "
   ]
  },
  {
   "cell_type": "code",
   "execution_count": 118,
   "metadata": {},
   "outputs": [],
   "source": [
    "#4.5"
   ]
  },
  {
   "cell_type": "code",
   "execution_count": 119,
   "metadata": {},
   "outputs": [],
   "source": [
    "[NA,eA,dA]=cleRSA(30)\n",
    "[NB,eB,dB]=cleRSA(30)\n",
    "\n",
    "paquet=int(len(bin(NA)))"
   ]
  },
  {
   "cell_type": "code",
   "execution_count": 120,
   "metadata": {},
   "outputs": [
    {
     "name": "stdout",
     "output_type": "stream",
     "text": [
      "Alice :  8201400089888225532225745914767 14052835031184915240431073973109 7818322720981017822573888169373\n",
      "Bob :    2555598477676211358108072672133 3745359237830521758132315971091 487379903129228699936656232571\n",
      "messsage envoyé à Bob :  [1392182019991598173382143099697, 1090105715831844959735660116769, 1108316178536463022015139270394, 2104883157711993895914395045061, 1149976701021207318135757289533, 1021370868644668596978085858803, 266550445766676037976064169781, 1895419426601949380670930348647, 37229223831492422437111334038, 37229223831492422437111334038, 1667516341142590426939672874503, 1983608480562766246051292389903, 1122989102727588797281512473115, 0, 1421167206225548482773552522837] [399118568267896155237534384761, 3248480698665327323008085234432, 5021167188032354666906079649296, 6176483591977539287676292990973, 2895277330217776617884377209924, 7994125925623129089800031728088, 3537666890855854716755097302116, 1665784236280489450278402727021]\n",
      "messsage decrypté :  Bonjour Bob !\n",
      "signature decryptée :  Aliceee\n"
     ]
    }
   ],
   "source": [
    "def protocole1():\n",
    "\n",
    "    # chez Alice\n",
    "    \n",
    "    \n",
    "    m1=\"Bonjour Bob !\"\n",
    "    s1=\"Aliceee\"\n",
    "    m1c=numerise(m1,paquet)\n",
    "    s1c=numerise(s1,paquet)\n",
    "    m2c=crypt(m1c,eB,NB)\n",
    "    s2c=crypt(s1c,dA,NA)\n",
    "    \n",
    "    print(\"messsage envoyé à Bob : \", m2c,s2c)\n",
    "    \n",
    "     # chez Bob\n",
    "    \n",
    "    mb = decrypt(m2c,dB,NB)\n",
    "    sb = decrypt(s2c,eA,NA)\n",
    "    \n",
    "    m=alphabetise(mb,paquet)\n",
    "    s=alphabetise(sb,paquet)\n",
    "    \n",
    "    print(\"messsage decrypté : \",m)\n",
    "    print(\"signature decryptée : \",s)\n",
    "    \n",
    "    return\n",
    "\n",
    "print(\"Alice : \", NA,eA,dA)\n",
    "print(\"Bob :   \",NB,eB,dB)\n",
    "protocole1()"
   ]
  },
  {
   "cell_type": "code",
   "execution_count": 121,
   "metadata": {},
   "outputs": [
    {
     "name": "stdout",
     "output_type": "stream",
     "text": [
      "messsage envoyé à Bob :  [4481052478894178652473196059190, 2424453629107211733400911162818, 5885475804968181447163699240175, 3265182658234180931507458964778, 2401179867878547330190091612457, 1904789461102488459092861750280, 6386176819118319838973880460794, 5505947453252132541787223976842, 2833941281128272808628743596217, 2833941281128272808628743596217, 2298987311755980531573273138463, 6091066635833234695630107419504, 5525226292654555447292906317718, 0, 4219135788432177586648096741474]\n",
      "messsage decrypté :  Bonjour Bob !\n"
     ]
    }
   ],
   "source": [
    "def protocole2():\n",
    "    \n",
    "    # chez Alice\n",
    "    m1=\"Bonjour Bob !\"\n",
    "    if(NA>NB):\n",
    "\n",
    "        m1c=numerise(m1,paquet)\n",
    "        m2c=crypt(m1c,eB,NB)\n",
    "        m3c=crypt(m2c,dA,NA)\n",
    "        \n",
    "        print(\"messsage envoyé à Bob : \", m3c)\n",
    "\n",
    "         # chez Bob\n",
    "        \n",
    "        md = decrypt(m3c,eA,NA)\n",
    "        m1d = decrypt(md,dB,NB)\n",
    "        m2d=alphabetise(m1d,paquet)\n",
    "\n",
    "        print(\"messsage decrypté : \",m2d)\n",
    "    \n",
    "    if(NB>=NA):\n",
    "        m1c=numerise(m1,paquet)\n",
    "        m2c=crypt(m1c,dA,NA)\n",
    "        m3c=crypt(m2c,eB,NB)\n",
    "        \n",
    "        print(\"messsage envoyé à Bob : \", m3c)\n",
    "\n",
    "         # chez Bob\n",
    "        md = decrypt(m3c,dB,NB)\n",
    "        m1d = decrypt(md,eA,NA)\n",
    "        m2d=alphabetise(m1d,paquet)\n",
    "\n",
    "        print(\"messsage decrypté : \",m2d)\n",
    "    return\n",
    "protocole2()"
   ]
  },
  {
   "cell_type": "code",
   "execution_count": 122,
   "metadata": {},
   "outputs": [],
   "source": [
    "#5"
   ]
  },
  {
   "cell_type": "code",
   "execution_count": 123,
   "metadata": {},
   "outputs": [],
   "source": [
    "def method_de_Fermat(N):\n",
    "    l=1\n",
    "    k=0\n",
    "    r=int(sqrt(l*N))+1 #partie entière supérieur\n",
    "    n=l+k\n",
    "    R=r+k\n",
    "    S=sqrt(R^2-l*N)\n",
    "    \n",
    "    while int(S) != S :\n",
    "        for L in range(l,n+1):\n",
    "            k=n-L\n",
    "            r=int(sqrt(L*N))+1\n",
    "            R=r+k\n",
    "            S=sqrt(R^2-L*N)\n",
    "        n=n+1\n",
    "        l=L\n",
    "    return (L-1,gcd(N,R-S),gcd(N,R+S))"
   ]
  },
  {
   "cell_type": "code",
   "execution_count": 124,
   "metadata": {},
   "outputs": [
    {
     "data": {
      "text/plain": [
       "(1847, 46061, 44021)"
      ]
     },
     "execution_count": 124,
     "metadata": {},
     "output_type": "execute_result"
    }
   ],
   "source": [
    "method_de_Fermat(2027651281)"
   ]
  },
  {
   "cell_type": "code",
   "execution_count": 125,
   "metadata": {},
   "outputs": [
    {
     "data": {
      "text/plain": [
       "205181881"
      ]
     },
     "execution_count": 125,
     "metadata": {},
     "output_type": "execute_result"
    }
   ],
   "source": [
    "44021*4661"
   ]
  },
  {
   "cell_type": "code",
   "execution_count": 126,
   "metadata": {},
   "outputs": [
    {
     "data": {
      "text/plain": [
       "112303 * 898423"
      ]
     },
     "execution_count": 126,
     "metadata": {},
     "output_type": "execute_result"
    }
   ],
   "source": [
    "factor(100895598169)"
   ]
  },
  {
   "cell_type": "code",
   "execution_count": 127,
   "metadata": {},
   "outputs": [
    {
     "data": {
      "text/plain": [
       "(5804, 112901, 899413)"
      ]
     },
     "execution_count": 127,
     "metadata": {},
     "output_type": "execute_result"
    }
   ],
   "source": [
    "method_de_Fermat(101544627113)"
   ]
  },
  {
   "cell_type": "code",
   "execution_count": 128,
   "metadata": {},
   "outputs": [
    {
     "data": {
      "text/plain": [
       "101544627113"
      ]
     },
     "execution_count": 128,
     "metadata": {},
     "output_type": "execute_result"
    }
   ],
   "source": [
    "112901*899413"
   ]
  },
  {
   "cell_type": "code",
   "execution_count": 129,
   "metadata": {},
   "outputs": [],
   "source": [
    "def somme(list1,list2):\n",
    "    if( len(list1) != len(list2)):\n",
    "        exit(\"erreur !!!\")\n",
    "    result=[1]*len(list1)\n",
    "    for i in range(len(list1)) :\n",
    "        result[i]=list2[i]+list1[i]\n",
    "    return result"
   ]
  },
  {
   "cell_type": "code",
   "execution_count": 130,
   "metadata": {},
   "outputs": [],
   "source": [
    "def negatif_fois(liste,a):\n",
    "    result=[1]*len(liste)\n",
    "    for i in range(len(liste)):\n",
    "        result[i]=-a*liste[i]\n",
    "    return result"
   ]
  },
  {
   "cell_type": "code",
   "execution_count": 131,
   "metadata": {},
   "outputs": [],
   "source": [
    "def trier(a,b):\n",
    "    if a<b:\n",
    "        return (b,a)\n",
    "    else:\n",
    "        return (a,b)"
   ]
  },
  {
   "cell_type": "code",
   "execution_count": 132,
   "metadata": {},
   "outputs": [],
   "source": [
    "def Taille(p,q): #on veut Taille=max(l,k,|m|)\n",
    "    #p,q)=trier(p,q)\n",
    "    if p<q:\n",
    "        c=q\n",
    "        q=p\n",
    "        p=c\n",
    "    lp=[1,0,p]\n",
    "    Taille=max(abs(lp[0]),abs(lp[1]),abs(lp[2]))\n",
    "    lq=[0,1,q]\n",
    "    t=max(abs(lq[0]),abs(lq[1]),abs(lq[2]))\n",
    "    \n",
    "    while(t<Taille):\n",
    "        \n",
    "        Q=lp[2]//q\n",
    "        lr=somme(lp,negatif_fois(lq,Q))\n",
    "        lp=lq\n",
    "        \n",
    "        lq=lr\n",
    "        q=lq[2]\n",
    "        Taille=max(abs(lp[0]),abs(lp[1]),abs(lp[2]))\n",
    "        t=max(abs(lq[0]),abs(lq[1]),abs(lq[2]))\n",
    "        \n",
    "    return Taille"
   ]
  },
  {
   "cell_type": "code",
   "execution_count": 133,
   "metadata": {},
   "outputs": [
    {
     "data": {
      "text/plain": [
       "948"
      ]
     },
     "execution_count": 133,
     "metadata": {},
     "output_type": "execute_result"
    }
   ],
   "source": [
    "Taille(112901,899413)"
   ]
  },
  {
   "cell_type": "code",
   "execution_count": 134,
   "metadata": {},
   "outputs": [
    {
     "data": {
      "text/plain": [
       "8"
      ]
     },
     "execution_count": 134,
     "metadata": {},
     "output_type": "execute_result"
    }
   ],
   "source": [
    "Taille(112303,898423)"
   ]
  },
  {
   "cell_type": "code",
   "execution_count": 135,
   "metadata": {},
   "outputs": [],
   "source": [
    "#6"
   ]
  },
  {
   "cell_type": "code",
   "execution_count": 136,
   "metadata": {},
   "outputs": [],
   "source": [
    "import random\n",
    "def primaliter_Fermat(n):\n",
    "    result=\" le nombre n est probablement premier\"\n",
    "    for i in range(int((n-1)/2)):\n",
    "        a=random.randrange(2,n)\n",
    "        if(gcd(a,n)!=1 or power_mod(a,n-1,n)!=1):\n",
    "            result=\"n est composé\"\n",
    "            break\n",
    "    return result"
   ]
  },
  {
   "cell_type": "code",
   "execution_count": 137,
   "metadata": {},
   "outputs": [
    {
     "data": {
      "text/plain": [
       "' le nombre n est probablement premier'"
      ]
     },
     "execution_count": 137,
     "metadata": {},
     "output_type": "execute_result"
    }
   ],
   "source": [
    "primaliter_Fermat(13)"
   ]
  },
  {
   "cell_type": "code",
   "execution_count": 138,
   "metadata": {},
   "outputs": [
    {
     "data": {
      "text/plain": [
       "' le nombre n est probablement premier'"
      ]
     },
     "execution_count": 138,
     "metadata": {},
     "output_type": "execute_result"
    }
   ],
   "source": [
    "primaliter_Fermat(46061)"
   ]
  },
  {
   "cell_type": "code",
   "execution_count": 139,
   "metadata": {},
   "outputs": [
    {
     "data": {
      "text/plain": [
       "'n est composé'"
      ]
     },
     "execution_count": 139,
     "metadata": {},
     "output_type": "execute_result"
    }
   ],
   "source": [
    "primaliter_Fermat(1729)"
   ]
  },
  {
   "cell_type": "code",
   "execution_count": 140,
   "metadata": {},
   "outputs": [],
   "source": [
    "def test_Fermat(n,a):\n",
    "    result=True\n",
    "    if(gcd(a,n)!=1 or power_mod(a,n-1,n)!=1):\n",
    "        result=False\n",
    "    return result"
   ]
  },
  {
   "cell_type": "code",
   "execution_count": 141,
   "metadata": {},
   "outputs": [
    {
     "data": {
      "text/plain": [
       "True"
      ]
     },
     "execution_count": 141,
     "metadata": {},
     "output_type": "execute_result"
    }
   ],
   "source": [
    "test_Fermat(1729,3)"
   ]
  },
  {
   "cell_type": "code",
   "execution_count": 142,
   "metadata": {},
   "outputs": [],
   "source": [
    "def defi_Fermat(): \n",
    "    for c in range(6,10000):\n",
    "        ci=False\n",
    "        if (not is_prime(c)):\n",
    "                for i in range(2,6):\n",
    "                    if(test_Fermat(c,i)):\n",
    "                        ci=True\n",
    "                    else:\n",
    "                        ci=False\n",
    "                        break\n",
    "                if(ci):\n",
    "                    return c"
   ]
  },
  {
   "cell_type": "code",
   "execution_count": 143,
   "metadata": {},
   "outputs": [
    {
     "data": {
      "text/plain": [
       "1729"
      ]
     },
     "execution_count": 143,
     "metadata": {},
     "output_type": "execute_result"
    }
   ],
   "source": [
    "defi_Fermat() #qui est le nombre de Ramanujan"
   ]
  },
  {
   "cell_type": "code",
   "execution_count": 144,
   "metadata": {},
   "outputs": [
    {
     "data": {
      "text/plain": [
       "3 * 11 * 17"
      ]
     },
     "execution_count": 144,
     "metadata": {},
     "output_type": "execute_result"
    }
   ],
   "source": [
    "factor(561) #lui ne passe pas le test malgré qu'il soit le plus petit nombre de Carmichaël car gcd(3,561) renvoie faux"
   ]
  },
  {
   "cell_type": "code",
   "execution_count": 145,
   "metadata": {},
   "outputs": [],
   "source": [
    "def nombre_div_deux(p):\n",
    "    b=0\n",
    "    pm=p-1\n",
    "    while(pm%2 ==0):\n",
    "        pm=pm//2\n",
    "        b+=1\n",
    "    return (b,pm)"
   ]
  },
  {
   "cell_type": "code",
   "execution_count": 146,
   "metadata": {},
   "outputs": [
    {
     "data": {
      "text/plain": [
       "(2, 3)"
      ]
     },
     "execution_count": 146,
     "metadata": {},
     "output_type": "execute_result"
    }
   ],
   "source": [
    "nombre_div_deux(13)"
   ]
  },
  {
   "cell_type": "code",
   "execution_count": 147,
   "metadata": {},
   "outputs": [],
   "source": [
    "def test_Miller_Rabin(p,a):\n",
    "    (b,pm)=nombre_div_deux(p)\n",
    "    m=int((p-1)/2^b)\n",
    "    z=power_mod(a,m,p)\n",
    "    \n",
    "    if(z==1 or z==p-1):\n",
    "        return True\n",
    "       \n",
    "    for i in range(1,b):\n",
    "        z=power_mod(z,2,p)\n",
    "        if(z==p-1):\n",
    "            return True\n",
    "        if(z==1):\n",
    "            return False\n",
    "    return False\n",
    "    return p"
   ]
  },
  {
   "cell_type": "code",
   "execution_count": 148,
   "metadata": {},
   "outputs": [],
   "source": [
    "def defi_Miller_Rabin():\n",
    "    for c in range(25300000,26000000):\n",
    "        ci=False\n",
    "        if (not is_prime(c)):\n",
    "                for i in range(2,6):\n",
    "                    if(test_Miller_Rabin(c,i)):\n",
    "                        ci=True\n",
    "                    else:\n",
    "                        ci=False\n",
    "                        break\n",
    "                if(ci):\n",
    "                    return c"
   ]
  },
  {
   "cell_type": "code",
   "execution_count": 149,
   "metadata": {},
   "outputs": [
    {
     "data": {
      "text/plain": [
       "25326001"
      ]
     },
     "execution_count": 149,
     "metadata": {},
     "output_type": "execute_result"
    }
   ],
   "source": [
    "defi_Miller_Rabin()"
   ]
  },
  {
   "cell_type": "code",
   "execution_count": 150,
   "metadata": {},
   "outputs": [
    {
     "data": {
      "text/plain": [
       "True"
      ]
     },
     "execution_count": 150,
     "metadata": {},
     "output_type": "execute_result"
    }
   ],
   "source": [
    "test_Miller_Rabin(25326001,5)"
   ]
  },
  {
   "cell_type": "code",
   "execution_count": 24,
   "metadata": {},
   "outputs": [
    {
     "data": {
      "text/plain": [
       "2251 * 11251"
      ]
     },
     "execution_count": 24,
     "metadata": {},
     "output_type": "execute_result"
    }
   ],
   "source": [
    "factor(25326001)"
   ]
  },
  {
   "cell_type": "code",
   "execution_count": null,
   "metadata": {},
   "outputs": [],
   "source": []
  }
 ],
 "metadata": {
  "kernelspec": {
   "display_name": "SageMath 9.3",
   "language": "sage",
   "name": "sagemath"
  },
  "language_info": {
   "codemirror_mode": {
    "name": "ipython",
    "version": 3
   },
   "file_extension": ".py",
   "mimetype": "text/x-python",
   "name": "python",
   "nbconvert_exporter": "python",
   "pygments_lexer": "ipython3",
   "version": "3.7.10"
  }
 },
 "nbformat": 4,
 "nbformat_minor": 4
}
